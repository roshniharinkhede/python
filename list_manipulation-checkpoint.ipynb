{
 "cells": [
  {
   "cell_type": "code",
   "execution_count": 1,
   "id": "ccf4ab4b",
   "metadata": {},
   "outputs": [],
   "source": [
    "l = [\"Roshni\",36,1988,24,[45,78]]"
   ]
  },
  {
   "cell_type": "code",
   "execution_count": 2,
   "id": "6d2006a2",
   "metadata": {},
   "outputs": [
    {
     "data": {
      "text/plain": [
       "['Roshni', 36, 1988, 24, [45, 78]]"
      ]
     },
     "execution_count": 2,
     "metadata": {},
     "output_type": "execute_result"
    }
   ],
   "source": [
    "l"
   ]
  },
  {
   "cell_type": "code",
   "execution_count": 3,
   "id": "fab410f0",
   "metadata": {},
   "outputs": [],
   "source": [
    "s=\"roshni\""
   ]
  },
  {
   "cell_type": "code",
   "execution_count": 4,
   "id": "b2a86c20",
   "metadata": {},
   "outputs": [
    {
     "ename": "TypeError",
     "evalue": "can only concatenate list (not \"str\") to list",
     "output_type": "error",
     "traceback": [
      "\u001b[1;31m---------------------------------------------------------------------------\u001b[0m",
      "\u001b[1;31mTypeError\u001b[0m                                 Traceback (most recent call last)",
      "\u001b[1;32m<ipython-input-4-c62842885d3f>\u001b[0m in \u001b[0;36m<module>\u001b[1;34m\u001b[0m\n\u001b[1;32m----> 1\u001b[1;33m \u001b[0ml\u001b[0m\u001b[1;33m+\u001b[0m\u001b[0ms\u001b[0m\u001b[1;33m\u001b[0m\u001b[1;33m\u001b[0m\u001b[0m\n\u001b[0m",
      "\u001b[1;31mTypeError\u001b[0m: can only concatenate list (not \"str\") to list"
     ]
    }
   ],
   "source": [
    "l+s"
   ]
  },
  {
   "cell_type": "code",
   "execution_count": 5,
   "id": "e1526cd6",
   "metadata": {},
   "outputs": [
    {
     "data": {
      "text/plain": [
       "['Roshni', 36, 1988, 24, [45, 78], 'r', 'o', 's', 'h', 'n', 'i']"
      ]
     },
     "execution_count": 5,
     "metadata": {},
     "output_type": "execute_result"
    }
   ],
   "source": [
    "s=list(s)\n",
    "l+s"
   ]
  },
  {
   "cell_type": "code",
   "execution_count": 6,
   "id": "bd824a87",
   "metadata": {},
   "outputs": [],
   "source": [
    "s=[\"roshni\"]"
   ]
  },
  {
   "cell_type": "code",
   "execution_count": 7,
   "id": "73f74f28",
   "metadata": {},
   "outputs": [
    {
     "data": {
      "text/plain": [
       "['Roshni', 36, 1988, 24, [45, 78], 'roshni']"
      ]
     },
     "execution_count": 7,
     "metadata": {},
     "output_type": "execute_result"
    }
   ],
   "source": [
    "l+s"
   ]
  },
  {
   "cell_type": "code",
   "execution_count": 8,
   "id": "190318dd",
   "metadata": {},
   "outputs": [
    {
     "data": {
      "text/plain": [
       "['Roshni',\n",
       " 36,\n",
       " 1988,\n",
       " 24,\n",
       " [45, 78],\n",
       " 'Roshni',\n",
       " 36,\n",
       " 1988,\n",
       " 24,\n",
       " [45, 78],\n",
       " 'Roshni',\n",
       " 36,\n",
       " 1988,\n",
       " 24,\n",
       " [45, 78],\n",
       " 'Roshni',\n",
       " 36,\n",
       " 1988,\n",
       " 24,\n",
       " [45, 78],\n",
       " 'Roshni',\n",
       " 36,\n",
       " 1988,\n",
       " 24,\n",
       " [45, 78]]"
      ]
     },
     "execution_count": 8,
     "metadata": {},
     "output_type": "execute_result"
    }
   ],
   "source": [
    "l*5"
   ]
  },
  {
   "cell_type": "code",
   "execution_count": 9,
   "id": "a91f78fc",
   "metadata": {},
   "outputs": [
    {
     "data": {
      "text/plain": [
       "5"
      ]
     },
     "execution_count": 9,
     "metadata": {},
     "output_type": "execute_result"
    }
   ],
   "source": [
    "len(l)"
   ]
  },
  {
   "cell_type": "code",
   "execution_count": 10,
   "id": "bebffaf0",
   "metadata": {},
   "outputs": [
    {
     "data": {
      "text/plain": [
       "['Roshni', 36, 1988, 24, [45, 78]]"
      ]
     },
     "execution_count": 10,
     "metadata": {},
     "output_type": "execute_result"
    }
   ],
   "source": [
    "l"
   ]
  },
  {
   "cell_type": "code",
   "execution_count": 11,
   "id": "fe192189",
   "metadata": {},
   "outputs": [
    {
     "data": {
      "text/plain": [
       "False"
      ]
     },
     "execution_count": 11,
     "metadata": {},
     "output_type": "execute_result"
    }
   ],
   "source": [
    "\"roshni\" in l"
   ]
  },
  {
   "cell_type": "code",
   "execution_count": 12,
   "id": "a19229f0",
   "metadata": {},
   "outputs": [
    {
     "data": {
      "text/plain": [
       "True"
      ]
     },
     "execution_count": 12,
     "metadata": {},
     "output_type": "execute_result"
    }
   ],
   "source": [
    "\"Roshni\" in l"
   ]
  },
  {
   "cell_type": "code",
   "execution_count": 13,
   "id": "a8b6a42e",
   "metadata": {},
   "outputs": [],
   "source": [
    "# .format funtion\n"
   ]
  },
  {
   "cell_type": "code",
   "execution_count": 14,
   "id": "66f50453",
   "metadata": {},
   "outputs": [
    {
     "data": {
      "text/plain": [
       "'my first name is Roshni and last name is harinkhede'"
      ]
     },
     "execution_count": 14,
     "metadata": {},
     "output_type": "execute_result"
    }
   ],
   "source": [
    "\"my first name is {} and last name is {}\".format(\"Roshni\",\"harinkhede\")"
   ]
  },
  {
   "cell_type": "code",
   "execution_count": 15,
   "id": "47564d0d",
   "metadata": {},
   "outputs": [
    {
     "data": {
      "text/plain": [
       "'my first name isharnkhedeand last name is roshni'"
      ]
     },
     "execution_count": 15,
     "metadata": {},
     "output_type": "execute_result"
    }
   ],
   "source": [
    "\"my first name is{}and last name is {}\".format(\"harnkhede\",\"roshni\")"
   ]
  },
  {
   "cell_type": "code",
   "execution_count": 17,
   "id": "10650840",
   "metadata": {},
   "outputs": [
    {
     "data": {
      "text/plain": [
       "'my first name is roshni and last name is harinkhede'"
      ]
     },
     "execution_count": 17,
     "metadata": {},
     "output_type": "execute_result"
    }
   ],
   "source": [
    "\"my first name is {a} and last name is {b}\".format(a=\"roshni\",b=\"harinkhede\")"
   ]
  },
  {
   "cell_type": "code",
   "execution_count": 18,
   "id": "10b72663",
   "metadata": {},
   "outputs": [
    {
     "data": {
      "text/plain": [
       "'my first name is roshni and last name is harinkhede'"
      ]
     },
     "execution_count": 18,
     "metadata": {},
     "output_type": "execute_result"
    }
   ],
   "source": [
    "\"my first name is {a} and last name is {b}\".format(b=\"harinkhede\",a=\"roshni\",)"
   ]
  },
  {
   "cell_type": "code",
   "execution_count": 19,
   "id": "31a7ce02",
   "metadata": {},
   "outputs": [
    {
     "name": "stdout",
     "output_type": "stream",
     "text": [
      "my first name is roshni and last name is harinkhede\n"
     ]
    }
   ],
   "source": [
    "print(\"my first name is {a} and last name is {b}\".format(b=\"harinkhede\",a=\"roshni\",))"
   ]
  },
  {
   "cell_type": "code",
   "execution_count": 21,
   "id": "262af138",
   "metadata": {},
   "outputs": [
    {
     "data": {
      "text/plain": [
       "('shiv', 'a', ' kumar')"
      ]
     },
     "execution_count": 21,
     "metadata": {},
     "output_type": "execute_result"
    }
   ],
   "source": [
    "a = \"shiva kumar\"\n",
    "a.partition(\"a\")"
   ]
  },
  {
   "cell_type": "code",
   "execution_count": 22,
   "id": "58cc3b4d",
   "metadata": {},
   "outputs": [],
   "source": [
    "n=[\"rosh\",34.5,[34,67,89],\"roshni\"]"
   ]
  },
  {
   "cell_type": "code",
   "execution_count": 23,
   "id": "d79be6f8",
   "metadata": {},
   "outputs": [
    {
     "data": {
      "text/plain": [
       "['rosh', 34.5, [34, 67, 89], 'roshni']"
      ]
     },
     "execution_count": 23,
     "metadata": {},
     "output_type": "execute_result"
    }
   ],
   "source": [
    "n"
   ]
  },
  {
   "cell_type": "code",
   "execution_count": 24,
   "id": "4e9d6483",
   "metadata": {},
   "outputs": [
    {
     "name": "stdout",
     "output_type": "stream",
     "text": [
      "rosh\n",
      "34.5\n",
      "[34, 67, 89]\n",
      "roshni\n"
     ]
    }
   ],
   "source": [
    "for i in n:\n",
    "    print(i)"
   ]
  },
  {
   "cell_type": "code",
   "execution_count": 25,
   "id": "252f1add",
   "metadata": {},
   "outputs": [
    {
     "data": {
      "text/plain": [
       "'rosh'"
      ]
     },
     "execution_count": 25,
     "metadata": {},
     "output_type": "execute_result"
    }
   ],
   "source": [
    "n[0]"
   ]
  },
  {
   "cell_type": "code",
   "execution_count": 27,
   "id": "b86770de",
   "metadata": {},
   "outputs": [
    {
     "name": "stdout",
     "output_type": "stream",
     "text": [
      "this is not list rosh\n",
      "this is not list 34.5\n",
      "this is a list [34, 67, 89]\n",
      "this is not list roshni\n"
     ]
    }
   ],
   "source": [
    "for i in n:\n",
    "    if type(i)==list:\n",
    "        print(\"this is a list\",i)\n",
    "    else:\n",
    "        print(\"this is not list\",i)"
   ]
  },
  {
   "cell_type": "code",
   "execution_count": 28,
   "id": "72e6647d",
   "metadata": {},
   "outputs": [],
   "source": [
    "n1 = [34,56,\"ineoron\",\"such\"]"
   ]
  },
  {
   "cell_type": "code",
   "execution_count": 29,
   "id": "a7dffebb",
   "metadata": {},
   "outputs": [
    {
     "data": {
      "text/plain": [
       "['rosh', 34.5, [34, 67, 89], 'roshni', 34, 56, 'ineoron', 'such']"
      ]
     },
     "execution_count": 29,
     "metadata": {},
     "output_type": "execute_result"
    }
   ],
   "source": [
    "n+n1"
   ]
  },
  {
   "cell_type": "code",
   "execution_count": 30,
   "id": "d25bab4f",
   "metadata": {},
   "outputs": [
    {
     "data": {
      "text/plain": [
       "True"
      ]
     },
     "execution_count": 30,
     "metadata": {},
     "output_type": "execute_result"
    }
   ],
   "source": [
    "34.5 in n"
   ]
  },
  {
   "cell_type": "code",
   "execution_count": 31,
   "id": "2a5b2ab5",
   "metadata": {},
   "outputs": [
    {
     "name": "stdout",
     "output_type": "stream",
     "text": [
      "6\n"
     ]
    }
   ],
   "source": [
    "print(max([2,3,4,5,6]))"
   ]
  },
  {
   "cell_type": "code",
   "execution_count": 32,
   "id": "720f48d4",
   "metadata": {},
   "outputs": [
    {
     "name": "stdout",
     "output_type": "stream",
     "text": [
      "2\n"
     ]
    }
   ],
   "source": [
    "print(min([2,3,4,5,6]))"
   ]
  },
  {
   "cell_type": "code",
   "execution_count": 33,
   "id": "09eb0e73",
   "metadata": {},
   "outputs": [
    {
     "data": {
      "text/plain": [
       "'z'"
      ]
     },
     "execution_count": 33,
     "metadata": {},
     "output_type": "execute_result"
    }
   ],
   "source": [
    "max([\"rosg\",\"such\",\"z\"])"
   ]
  },
  {
   "cell_type": "code",
   "execution_count": 34,
   "id": "638e5731",
   "metadata": {},
   "outputs": [
    {
     "data": {
      "text/plain": [
       "'rosg'"
      ]
     },
     "execution_count": 34,
     "metadata": {},
     "output_type": "execute_result"
    }
   ],
   "source": [
    "min([\"rosg\",\"such\",\"z\"])"
   ]
  },
  {
   "cell_type": "code",
   "execution_count": 35,
   "id": "c8b4967a",
   "metadata": {},
   "outputs": [],
   "source": [
    "l = [2,3,4,5]\n",
    "l.append(\"rosh\")"
   ]
  },
  {
   "cell_type": "code",
   "execution_count": 36,
   "id": "1f2f67ff",
   "metadata": {},
   "outputs": [
    {
     "data": {
      "text/plain": [
       "[2, 3, 4, 5, 'rosh']"
      ]
     },
     "execution_count": 36,
     "metadata": {},
     "output_type": "execute_result"
    }
   ],
   "source": [
    "l"
   ]
  },
  {
   "cell_type": "code",
   "execution_count": 38,
   "id": "58cd2c16",
   "metadata": {},
   "outputs": [
    {
     "data": {
      "text/plain": [
       "[2, 3, 4, 'data scientist', 5, 'rosh']"
      ]
     },
     "execution_count": 38,
     "metadata": {},
     "output_type": "execute_result"
    }
   ],
   "source": [
    "l.insert(3,\"data scientist\")\n",
    "l"
   ]
  },
  {
   "cell_type": "code",
   "execution_count": 39,
   "id": "51d088cf",
   "metadata": {},
   "outputs": [
    {
     "data": {
      "text/plain": [
       "[2, 3, 4, 'data scientist', 5, 'data scientist', 'rosh']"
      ]
     },
     "execution_count": 39,
     "metadata": {},
     "output_type": "execute_result"
    }
   ],
   "source": [
    "\n",
    "ll.insert(-1,\"data scientist\")"
   ]
  },
  {
   "cell_type": "code",
   "execution_count": 40,
   "id": "bd5eb483",
   "metadata": {},
   "outputs": [
    {
     "data": {
      "text/plain": [
       "[2, 3, 4, 'data scientist', 5, 'data scientist', 'data scientist2', 'rosh']"
      ]
     },
     "execution_count": 40,
     "metadata": {},
     "output_type": "execute_result"
    }
   ],
   "source": [
    "l.insert(-1,\"data scientist2\")\n",
    "l"
   ]
  },
  {
   "cell_type": "code",
   "execution_count": 41,
   "id": "060e1794",
   "metadata": {},
   "outputs": [
    {
     "data": {
      "text/plain": [
       "2"
      ]
     },
     "execution_count": 41,
     "metadata": {},
     "output_type": "execute_result"
    }
   ],
   "source": [
    "l.count(\"data scientist\")"
   ]
  },
  {
   "cell_type": "code",
   "execution_count": 42,
   "id": "9cc0c17f",
   "metadata": {},
   "outputs": [
    {
     "data": {
      "text/plain": [
       "1"
      ]
     },
     "execution_count": 42,
     "metadata": {},
     "output_type": "execute_result"
    }
   ],
   "source": [
    "l.count(\"data scientist2\")"
   ]
  },
  {
   "cell_type": "code",
   "execution_count": 1,
   "id": "c9b2bf09",
   "metadata": {},
   "outputs": [],
   "source": [
    "l = [1,2,3,4]"
   ]
  },
  {
   "cell_type": "code",
   "execution_count": 2,
   "id": "b7ddc4d7",
   "metadata": {},
   "outputs": [],
   "source": [
    "l.append(\"rosh\")"
   ]
  },
  {
   "cell_type": "code",
   "execution_count": 3,
   "id": "ff058949",
   "metadata": {},
   "outputs": [
    {
     "data": {
      "text/plain": [
       "[1, 2, 3, 4, 'rosh']"
      ]
     },
     "execution_count": 3,
     "metadata": {},
     "output_type": "execute_result"
    }
   ],
   "source": [
    "l"
   ]
  },
  {
   "cell_type": "code",
   "execution_count": 4,
   "id": "69a42e1c",
   "metadata": {},
   "outputs": [],
   "source": [
    "l.append([3,4,56])"
   ]
  },
  {
   "cell_type": "code",
   "execution_count": 5,
   "id": "11bf67a3",
   "metadata": {},
   "outputs": [
    {
     "data": {
      "text/plain": [
       "[1, 2, 3, 4, 'rosh', [3, 4, 56]]"
      ]
     },
     "execution_count": 5,
     "metadata": {},
     "output_type": "execute_result"
    }
   ],
   "source": [
    "l"
   ]
  },
  {
   "cell_type": "code",
   "execution_count": 6,
   "id": "065eec62",
   "metadata": {},
   "outputs": [
    {
     "data": {
      "text/plain": [
       "[1, 2, 3, 4, 'rosh', [3, 4, 56], 't', 'e', 's', 't', '1']"
      ]
     },
     "execution_count": 6,
     "metadata": {},
     "output_type": "execute_result"
    }
   ],
   "source": [
    "l.extend(\"test1\")\n",
    "l"
   ]
  },
  {
   "cell_type": "code",
   "execution_count": 9,
   "id": "f68cc6d4",
   "metadata": {},
   "outputs": [
    {
     "data": {
      "text/plain": [
       "'test'"
      ]
     },
     "execution_count": 9,
     "metadata": {},
     "output_type": "execute_result"
    }
   ],
   "source": [
    "s = (\"test\")\n",
    "s"
   ]
  },
  {
   "cell_type": "code",
   "execution_count": 10,
   "id": "d7308c2b",
   "metadata": {},
   "outputs": [
    {
     "data": {
      "text/plain": [
       "['t', 'e', 's', 't']"
      ]
     },
     "execution_count": 10,
     "metadata": {},
     "output_type": "execute_result"
    }
   ],
   "source": [
    "list(s)"
   ]
  },
  {
   "cell_type": "code",
   "execution_count": 11,
   "id": "dcc4b2ee",
   "metadata": {},
   "outputs": [
    {
     "ename": "TypeError",
     "evalue": "'int' object is not iterable",
     "output_type": "error",
     "traceback": [
      "\u001b[1;31m---------------------------------------------------------------------------\u001b[0m",
      "\u001b[1;31mTypeError\u001b[0m                                 Traceback (most recent call last)",
      "\u001b[1;32m<ipython-input-11-e9e9973275da>\u001b[0m in \u001b[0;36m<module>\u001b[1;34m\u001b[0m\n\u001b[1;32m----> 1\u001b[1;33m \u001b[0ml\u001b[0m\u001b[1;33m.\u001b[0m\u001b[0mextend\u001b[0m\u001b[1;33m(\u001b[0m\u001b[1;36m45\u001b[0m\u001b[1;33m)\u001b[0m\u001b[1;33m\u001b[0m\u001b[1;33m\u001b[0m\u001b[0m\n\u001b[0m\u001b[0;32m      2\u001b[0m \u001b[0ml\u001b[0m\u001b[1;33m\u001b[0m\u001b[1;33m\u001b[0m\u001b[0m\n",
      "\u001b[1;31mTypeError\u001b[0m: 'int' object is not iterable"
     ]
    }
   ],
   "source": [
    "l.extend(45)\n",
    "l"
   ]
  },
  {
   "cell_type": "code",
   "execution_count": 13,
   "id": "9ff4ee54",
   "metadata": {},
   "outputs": [
    {
     "data": {
      "text/plain": [
       "[1, 2, 3, 4, 'rosh', [3, 4, 56], 't', 'e', 's', 't', '1', 45, 34, 78, 90]"
      ]
     },
     "execution_count": 13,
     "metadata": {},
     "output_type": "execute_result"
    }
   ],
   "source": [
    "l.extend([45,34,78,90])\n",
    "l"
   ]
  },
  {
   "cell_type": "code",
   "execution_count": 14,
   "id": "03f2f9d1",
   "metadata": {},
   "outputs": [
    {
     "data": {
      "text/plain": [
       "4"
      ]
     },
     "execution_count": 14,
     "metadata": {},
     "output_type": "execute_result"
    }
   ],
   "source": [
    "l.index(\"rosh\")"
   ]
  },
  {
   "cell_type": "code",
   "execution_count": 15,
   "id": "7cc4121e",
   "metadata": {},
   "outputs": [
    {
     "data": {
      "text/plain": [
       "2"
      ]
     },
     "execution_count": 15,
     "metadata": {},
     "output_type": "execute_result"
    }
   ],
   "source": [
    "l.index(3)"
   ]
  },
  {
   "cell_type": "code",
   "execution_count": 17,
   "id": "1363c5a1",
   "metadata": {},
   "outputs": [
    {
     "data": {
      "text/plain": [
       "5"
      ]
     },
     "execution_count": 17,
     "metadata": {},
     "output_type": "execute_result"
    }
   ],
   "source": [
    "l.index( [3, 4, 56])"
   ]
  },
  {
   "cell_type": "code",
   "execution_count": 18,
   "id": "4f156da6",
   "metadata": {},
   "outputs": [
    {
     "data": {
      "text/plain": [
       "[2, 3, 4, 5, 6]"
      ]
     },
     "execution_count": 18,
     "metadata": {},
     "output_type": "execute_result"
    }
   ],
   "source": [
    "l= [2,3,4,5,6,7]\n",
    "l.pop()\n",
    "l"
   ]
  },
  {
   "cell_type": "code",
   "execution_count": 19,
   "id": "d9d36d31",
   "metadata": {},
   "outputs": [
    {
     "data": {
      "text/plain": [
       "2"
      ]
     },
     "execution_count": 19,
     "metadata": {},
     "output_type": "execute_result"
    }
   ],
   "source": [
    "l.pop(0)"
   ]
  },
  {
   "cell_type": "code",
   "execution_count": 20,
   "id": "02b3dca1",
   "metadata": {},
   "outputs": [
    {
     "data": {
      "text/plain": [
       "[3, 4, 5, 6]"
      ]
     },
     "execution_count": 20,
     "metadata": {},
     "output_type": "execute_result"
    }
   ],
   "source": [
    "l"
   ]
  },
  {
   "cell_type": "code",
   "execution_count": 21,
   "id": "9764653c",
   "metadata": {},
   "outputs": [
    {
     "data": {
      "text/plain": [
       "[3, 4, 5, 6]"
      ]
     },
     "execution_count": 21,
     "metadata": {},
     "output_type": "execute_result"
    }
   ],
   "source": [
    "l"
   ]
  },
  {
   "cell_type": "code",
   "execution_count": 22,
   "id": "828f328e",
   "metadata": {},
   "outputs": [],
   "source": [
    "l.remove(4)"
   ]
  },
  {
   "cell_type": "code",
   "execution_count": 23,
   "id": "903ec38f",
   "metadata": {},
   "outputs": [
    {
     "data": {
      "text/plain": [
       "[3, 5, 6]"
      ]
     },
     "execution_count": 23,
     "metadata": {},
     "output_type": "execute_result"
    }
   ],
   "source": [
    "l"
   ]
  },
  {
   "cell_type": "code",
   "execution_count": 24,
   "id": "b7252cbc",
   "metadata": {},
   "outputs": [],
   "source": [
    "l.reverse()"
   ]
  },
  {
   "cell_type": "code",
   "execution_count": 25,
   "id": "48ec01e6",
   "metadata": {},
   "outputs": [
    {
     "data": {
      "text/plain": [
       "[6, 5, 3]"
      ]
     },
     "execution_count": 25,
     "metadata": {},
     "output_type": "execute_result"
    }
   ],
   "source": [
    "l"
   ]
  },
  {
   "cell_type": "code",
   "execution_count": 26,
   "id": "e6c3d248",
   "metadata": {},
   "outputs": [],
   "source": [
    "l.sort()"
   ]
  },
  {
   "cell_type": "code",
   "execution_count": 27,
   "id": "41393b26",
   "metadata": {},
   "outputs": [
    {
     "data": {
      "text/plain": [
       "[3, 5, 6]"
      ]
     },
     "execution_count": 27,
     "metadata": {},
     "output_type": "execute_result"
    }
   ],
   "source": [
    "l"
   ]
  },
  {
   "cell_type": "code",
   "execution_count": 1,
   "id": "d39677e7",
   "metadata": {},
   "outputs": [],
   "source": [
    "# assignment"
   ]
  },
  {
   "cell_type": "code",
   "execution_count": 2,
   "id": "444893d8",
   "metadata": {},
   "outputs": [],
   "source": [
    "l = [[2,3,4,5,6],[\"roshni\",67,45],[2,3,4.5,68]]"
   ]
  },
  {
   "cell_type": "code",
   "execution_count": 3,
   "id": "f1e4e31a",
   "metadata": {},
   "outputs": [
    {
     "data": {
      "text/plain": [
       "[[2, 3, 4, 5, 6], ['roshni', 67, 45], [2, 3, 4.5, 68]]"
      ]
     },
     "execution_count": 3,
     "metadata": {},
     "output_type": "execute_result"
    }
   ],
   "source": [
    "l"
   ]
  },
  {
   "cell_type": "code",
   "execution_count": 4,
   "id": "ada25a53",
   "metadata": {},
   "outputs": [],
   "source": [
    "# Q.1  append two more list and one complex number in between list"
   ]
  },
  {
   "cell_type": "code",
   "execution_count": 5,
   "id": "2ca16344",
   "metadata": {},
   "outputs": [
    {
     "name": "stderr",
     "output_type": "stream",
     "text": [
      "<>:1: SyntaxWarning: 'int' object is not subscriptable; perhaps you missed a comma?\n",
      "<>:1: SyntaxWarning: 'int' object is not subscriptable; perhaps you missed a comma?\n",
      "<ipython-input-5-d062c118208a>:1: SyntaxWarning: 'int' object is not subscriptable; perhaps you missed a comma?\n",
      "  l.insert(2[\"hari\",45,62],[34,65,6j])\n"
     ]
    },
    {
     "ename": "TypeError",
     "evalue": "'int' object is not subscriptable",
     "output_type": "error",
     "traceback": [
      "\u001b[1;31m---------------------------------------------------------------------------\u001b[0m",
      "\u001b[1;31mTypeError\u001b[0m                                 Traceback (most recent call last)",
      "\u001b[1;32m<ipython-input-5-d062c118208a>\u001b[0m in \u001b[0;36m<module>\u001b[1;34m\u001b[0m\n\u001b[1;32m----> 1\u001b[1;33m \u001b[0ml\u001b[0m\u001b[1;33m.\u001b[0m\u001b[0minsert\u001b[0m\u001b[1;33m(\u001b[0m\u001b[1;36m2\u001b[0m\u001b[1;33m[\u001b[0m\u001b[1;34m\"hari\"\u001b[0m\u001b[1;33m,\u001b[0m\u001b[1;36m45\u001b[0m\u001b[1;33m,\u001b[0m\u001b[1;36m62\u001b[0m\u001b[1;33m]\u001b[0m\u001b[1;33m,\u001b[0m\u001b[1;33m[\u001b[0m\u001b[1;36m34\u001b[0m\u001b[1;33m,\u001b[0m\u001b[1;36m65\u001b[0m\u001b[1;33m,\u001b[0m\u001b[1;36m6j\u001b[0m\u001b[1;33m]\u001b[0m\u001b[1;33m)\u001b[0m\u001b[1;33m\u001b[0m\u001b[1;33m\u001b[0m\u001b[0m\n\u001b[0m",
      "\u001b[1;31mTypeError\u001b[0m: 'int' object is not subscriptable"
     ]
    }
   ],
   "source": [
    "l.insert(2[\"hari\",45,62],[34,65,6j])"
   ]
  },
  {
   "cell_type": "code",
   "execution_count": 9,
   "id": "141fbc4c",
   "metadata": {},
   "outputs": [
    {
     "data": {
      "text/plain": [
       "[[2, 3, 4, 5, 6], ['roshni', 67, 45], [2, 3, 4.5, 68], ['hari', 45, 62]]"
      ]
     },
     "execution_count": 9,
     "metadata": {},
     "output_type": "execute_result"
    }
   ],
   "source": [
    "l"
   ]
  },
  {
   "cell_type": "code",
   "execution_count": 10,
   "id": "044e59b6",
   "metadata": {},
   "outputs": [
    {
     "ename": "ValueError",
     "evalue": "'roshni' is not in list",
     "output_type": "error",
     "traceback": [
      "\u001b[1;31m---------------------------------------------------------------------------\u001b[0m",
      "\u001b[1;31mValueError\u001b[0m                                Traceback (most recent call last)",
      "\u001b[1;32m<ipython-input-10-00afcfd40d43>\u001b[0m in \u001b[0;36m<module>\u001b[1;34m\u001b[0m\n\u001b[1;32m----> 1\u001b[1;33m \u001b[0ml\u001b[0m\u001b[1;33m.\u001b[0m\u001b[0mindex\u001b[0m\u001b[1;33m(\u001b[0m\u001b[1;34m\"roshni\"\u001b[0m\u001b[1;33m)\u001b[0m\u001b[1;33m\u001b[0m\u001b[1;33m\u001b[0m\u001b[0m\n\u001b[0m",
      "\u001b[1;31mValueError\u001b[0m: 'roshni' is not in list"
     ]
    }
   ],
   "source": [
    "l.index(\"roshni\")"
   ]
  },
  {
   "cell_type": "code",
   "execution_count": null,
   "id": "80e4f95d",
   "metadata": {},
   "outputs": [],
   "source": []
  }
 ],
 "metadata": {
  "kernelspec": {
   "display_name": "Python 3",
   "language": "python",
   "name": "python3"
  },
  "language_info": {
   "codemirror_mode": {
    "name": "ipython",
    "version": 3
   },
   "file_extension": ".py",
   "mimetype": "text/x-python",
   "name": "python",
   "nbconvert_exporter": "python",
   "pygments_lexer": "ipython3",
   "version": "3.8.8"
  }
 },
 "nbformat": 4,
 "nbformat_minor": 5
}
