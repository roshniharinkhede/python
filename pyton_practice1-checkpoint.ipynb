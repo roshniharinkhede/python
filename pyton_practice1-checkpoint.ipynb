{
 "cells": [
  {
   "cell_type": "code",
   "execution_count": 2,
   "id": "302b5744",
   "metadata": {},
   "outputs": [],
   "source": [
    "a = 10"
   ]
  },
  {
   "cell_type": "code",
   "execution_count": 3,
   "id": "7ea15cef",
   "metadata": {},
   "outputs": [
    {
     "name": "stdout",
     "output_type": "stream",
     "text": [
      "this is integer v3456\n"
     ]
    }
   ],
   "source": [
    "a = input(\"this is integer v\")"
   ]
  },
  {
   "cell_type": "code",
   "execution_count": 4,
   "id": "d4287034",
   "metadata": {},
   "outputs": [
    {
     "data": {
      "text/plain": [
       "'3456'"
      ]
     },
     "execution_count": 4,
     "metadata": {},
     "output_type": "execute_result"
    }
   ],
   "source": [
    "a"
   ]
  },
  {
   "cell_type": "code",
   "execution_count": 5,
   "id": "d5faa00b",
   "metadata": {},
   "outputs": [
    {
     "data": {
      "text/plain": [
       "str"
      ]
     },
     "execution_count": 5,
     "metadata": {},
     "output_type": "execute_result"
    }
   ],
   "source": [
    "type(a)"
   ]
  },
  {
   "cell_type": "code",
   "execution_count": 7,
   "id": "70b09bc8",
   "metadata": {},
   "outputs": [
    {
     "name": "stdout",
     "output_type": "stream",
     "text": [
      "this is integer v7654\n"
     ]
    }
   ],
   "source": [
    "a = int(input(\"this is integer v\"))"
   ]
  },
  {
   "cell_type": "code",
   "execution_count": 8,
   "id": "1e483d4d",
   "metadata": {},
   "outputs": [
    {
     "data": {
      "text/plain": [
       "7654"
      ]
     },
     "execution_count": 8,
     "metadata": {},
     "output_type": "execute_result"
    }
   ],
   "source": [
    "a"
   ]
  },
  {
   "cell_type": "code",
   "execution_count": 9,
   "id": "e15fa440",
   "metadata": {},
   "outputs": [
    {
     "data": {
      "text/plain": [
       "int"
      ]
     },
     "execution_count": 9,
     "metadata": {},
     "output_type": "execute_result"
    }
   ],
   "source": [
    "type(a)"
   ]
  },
  {
   "cell_type": "code",
   "execution_count": 15,
   "id": "013431df",
   "metadata": {},
   "outputs": [
    {
     "name": "stdout",
     "output_type": "stream",
     "text": [
      "this is my var a45\n",
      "this is my var b67\n",
      "this is my var c67\n"
     ]
    }
   ],
   "source": [
    "a = int(input(\"this is my var a\"))\n",
    "b = int(input(\"this is my var b\"))\n",
    "c = int(input(\"this is my var c\"))"
   ]
  },
  {
   "cell_type": "code",
   "execution_count": 16,
   "id": "a7c5734d",
   "metadata": {},
   "outputs": [
    {
     "data": {
      "text/plain": [
       "(45, 67, 67)"
      ]
     },
     "execution_count": 16,
     "metadata": {},
     "output_type": "execute_result"
    }
   ],
   "source": [
    "a,b,c"
   ]
  },
  {
   "cell_type": "code",
   "execution_count": 17,
   "id": "7f18a2e6",
   "metadata": {},
   "outputs": [],
   "source": [
    "O = (a+b)/c"
   ]
  },
  {
   "cell_type": "code",
   "execution_count": 18,
   "id": "d49cd0e6",
   "metadata": {},
   "outputs": [],
   "source": [
    "o1 = O + 74 + 6j"
   ]
  },
  {
   "cell_type": "code",
   "execution_count": 19,
   "id": "7ba06c55",
   "metadata": {},
   "outputs": [
    {
     "data": {
      "text/plain": [
       "(75.67164179104478+6j)"
      ]
     },
     "execution_count": 19,
     "metadata": {},
     "output_type": "execute_result"
    }
   ],
   "source": [
    "o1"
   ]
  },
  {
   "cell_type": "code",
   "execution_count": 20,
   "id": "39d71a65",
   "metadata": {},
   "outputs": [
    {
     "data": {
      "text/plain": [
       "complex"
      ]
     },
     "execution_count": 20,
     "metadata": {},
     "output_type": "execute_result"
    }
   ],
   "source": [
    "type(o1)"
   ]
  },
  {
   "cell_type": "code",
   "execution_count": 22,
   "id": "c4863cf1",
   "metadata": {},
   "outputs": [
    {
     "ename": "TypeError",
     "evalue": "unsupported operand type(s) for +: 'complex' and 'str'",
     "output_type": "error",
     "traceback": [
      "\u001b[1;31m---------------------------------------------------------------------------\u001b[0m",
      "\u001b[1;31mTypeError\u001b[0m                                 Traceback (most recent call last)",
      "\u001b[1;32m<ipython-input-22-dd16f020d5f6>\u001b[0m in \u001b[0;36m<module>\u001b[1;34m\u001b[0m\n\u001b[1;32m----> 1\u001b[1;33m \u001b[0mo1\u001b[0m \u001b[1;33m+\u001b[0m \u001b[1;34m\"roshni\"\u001b[0m\u001b[1;33m\u001b[0m\u001b[1;33m\u001b[0m\u001b[0m\n\u001b[0m",
      "\u001b[1;31mTypeError\u001b[0m: unsupported operand type(s) for +: 'complex' and 'str'"
     ]
    }
   ],
   "source": [
    "o1 + \"roshni\""
   ]
  },
  {
   "cell_type": "code",
   "execution_count": 23,
   "id": "10218df3",
   "metadata": {},
   "outputs": [
    {
     "data": {
      "text/plain": [
       "'(75.67164179104478+6j)roshni'"
      ]
     },
     "execution_count": 23,
     "metadata": {},
     "output_type": "execute_result"
    }
   ],
   "source": [
    "str(o1) + \"roshni\""
   ]
  },
  {
   "cell_type": "code",
   "execution_count": 2,
   "id": "29302f6a",
   "metadata": {},
   "outputs": [
    {
     "name": "stdout",
     "output_type": "stream",
     "text": [
      "enter the number123\n",
      "num is greater than 100\n"
     ]
    }
   ],
   "source": [
    "# if statement\n",
    "val = input(\"enter the number\")\n",
    "value_flout = int(val)\n",
    "if (value_flout > 100):\n",
    "    print(\"num is greater than 100\")"
   ]
  },
  {
   "cell_type": "code",
   "execution_count": 3,
   "id": "d2bcb02b",
   "metadata": {},
   "outputs": [
    {
     "name": "stdout",
     "output_type": "stream",
     "text": [
      "enter the number34\n",
      "num is even\n"
     ]
    }
   ],
   "source": [
    "val = input(\"enter the number\")\n",
    "value_flout = int(val)\n",
    "if (value_flout%2 == 0):\n",
    "    print(\"num is even\")"
   ]
  },
  {
   "cell_type": "code",
   "execution_count": 6,
   "id": "662ebee0",
   "metadata": {},
   "outputs": [
    {
     "name": "stdout",
     "output_type": "stream",
     "text": [
      "enter the number33\n",
      "num is odd\n"
     ]
    }
   ],
   "source": [
    "val = input(\"enter the number\")\n",
    "value_float = int(val)\n",
    "if (value_float%2 == 0):\n",
    "    print(\"num is even\")\n",
    "else:\n",
    "    print(\"num is odd\")"
   ]
  },
  {
   "cell_type": "code",
   "execution_count": 7,
   "id": "002af3c3",
   "metadata": {},
   "outputs": [
    {
     "name": "stdout",
     "output_type": "stream",
     "text": [
      "ener the age45\n",
      "you are not minor\n"
     ]
    }
   ],
   "source": [
    "age = float(input(\"ener the age\"))\n",
    "if (age<18):\n",
    "    print(\"minor age\")\n",
    "else:\n",
    "    print(\"you are not minor\")"
   ]
  },
  {
   "cell_type": "code",
   "execution_count": null,
   "id": "38da36b2",
   "metadata": {},
   "outputs": [],
   "source": [
    "# nested if else condition\n",
    "age = float(input(\"enter the age\"))\n",
    "if (age<18):\n",
    "    print(\"minor age\")\n",
    "    if (age<15):\n",
    "        print(\"you are in school\")\n",
    "    else:\n",
    "        print(\"you are in college\")\n",
    "elif(age>=18 and age<=45):        \n",
    "    print(\"mid age\")\n",
    "elif(age>45 and age<50):\n",
    "    print(\"senior mid age\")\n",
    "else:\n",
    "    print(\"senior citizen\")"
   ]
  },
  {
   "cell_type": "code",
   "execution_count": 1,
   "id": "c9f55646",
   "metadata": {},
   "outputs": [
    {
     "name": "stdout",
     "output_type": "stream",
     "text": [
      "2\n",
      "3\n",
      "4\n",
      "5\n",
      "6\n",
      "7\n"
     ]
    }
   ],
   "source": [
    "# loop statement\n",
    "# for loop,while loop\n",
    "lst = [2,3,4,5,6,7]\n",
    "for i in lst:\n",
    "    print(i)\n"
   ]
  },
  {
   "cell_type": "code",
   "execution_count": 3,
   "id": "440cce83",
   "metadata": {},
   "outputs": [
    {
     "name": "stdout",
     "output_type": "stream",
     "text": [
      "4\n",
      "6\n",
      "8\n",
      "10\n",
      "12\n",
      "14\n"
     ]
    }
   ],
   "source": [
    "lst = [2,3,4,5,6,7]\n",
    "for i in lst:\n",
    "    print(i*2)"
   ]
  },
  {
   "cell_type": "code",
   "execution_count": 4,
   "id": "38da4460",
   "metadata": {},
   "outputs": [
    {
     "name": "stdout",
     "output_type": "stream",
     "text": [
      "4\n",
      "9\n",
      "16\n",
      "25\n",
      "36\n",
      "49\n"
     ]
    }
   ],
   "source": [
    "lst = [2,3,4,5,6,7]\n",
    "for i in lst:\n",
    "    print(i**2)"
   ]
  },
  {
   "cell_type": "code",
   "execution_count": 6,
   "id": "63afc81a",
   "metadata": {},
   "outputs": [
    {
     "name": "stdout",
     "output_type": "stream",
     "text": [
      "27\n"
     ]
    }
   ],
   "source": [
    "# find the sum of all the elements in the list\n",
    "lst = [2,3,4,5,6,7]\n",
    "sum1 = 0\n",
    "for i in lst:\n",
    "    sum1 = sum1+i\n",
    "print(sum1)  \n"
   ]
  },
  {
   "cell_type": "code",
   "execution_count": 14,
   "id": "07df0655",
   "metadata": {},
   "outputs": [
    {
     "name": "stdout",
     "output_type": "stream",
     "text": [
      "even sum is 12\n",
      "odd sum is 15\n"
     ]
    }
   ],
   "source": [
    "# find the sum of even and odd number\n",
    "lst = [2,3,4,5,6,7]\n",
    "even_sum = 0\n",
    "odd_sum = 0\n",
    "\n",
    "for i in lst:\n",
    "    if(i%2==0):\n",
    "        even_sum=even_sum+i\n",
    "    else:\n",
    "          odd_sum=odd_sum+i\n",
    "\n",
    "\n",
    "  \n",
    "print(\"even sum is {}\".format(even_sum))   \n",
    "print(\"odd sum is {}\".format(odd_sum))        \n"
   ]
  },
  {
   "cell_type": "code",
   "execution_count": 13,
   "id": "85ff3029",
   "metadata": {},
   "outputs": [
    {
     "name": "stdout",
     "output_type": "stream",
     "text": [
      "even num3\n",
      "odd num3\n"
     ]
    }
   ],
   "source": [
    "# find even and odd number in the list\n",
    "lst = [2,3,4,5,6,7,]\n",
    "even = 0\n",
    "odd = 0\n",
    "\n",
    "for i in lst:\n",
    "    if(i%2==0):\n",
    "        even = even+1\n",
    "    else:\n",
    "         odd=odd+1\n",
    "   \n",
    "print(\"even num{}\".format(even))\n",
    "print(\"odd num{}\".format(odd))\n",
    "      \n",
    "\n",
    "\n"
   ]
  },
  {
   "cell_type": "code",
   "execution_count": 24,
   "id": "4ac1eabf",
   "metadata": {},
   "outputs": [
    {
     "name": "stdout",
     "output_type": "stream",
     "text": [
      "0\n",
      "1\n",
      "2\n",
      "3\n",
      "4\n",
      "5\n",
      "6\n",
      "7\n",
      "8\n",
      "9\n",
      "10\n"
     ]
    }
   ],
   "source": [
    "# while loop\n",
    "i = 0\n",
    "while(i<=10):\n",
    "    print(i)\n",
    "    i = i +1\n",
    " \n",
    "   \n",
    "    \n",
    "       \n",
    "  \n",
    " "
   ]
  },
  {
   "cell_type": "code",
   "execution_count": 31,
   "id": "d57e374b",
   "metadata": {},
   "outputs": [
    {
     "ename": "KeyboardInterrupt",
     "evalue": "",
     "output_type": "error",
     "traceback": [
      "\u001b[1;31m---------------------------------------------------------------------------\u001b[0m",
      "\u001b[1;31mKeyboardInterrupt\u001b[0m                         Traceback (most recent call last)",
      "\u001b[1;32m<ipython-input-31-2228293d937b>\u001b[0m in \u001b[0;36m<module>\u001b[1;34m\u001b[0m\n\u001b[0;32m      4\u001b[0m \u001b[1;32mwhile\u001b[0m\u001b[1;33m(\u001b[0m\u001b[0mi\u001b[0m\u001b[1;33m<=\u001b[0m\u001b[1;36m10\u001b[0m\u001b[1;33m)\u001b[0m\u001b[1;33m:\u001b[0m\u001b[1;33m\u001b[0m\u001b[1;33m\u001b[0m\u001b[0m\n\u001b[0;32m      5\u001b[0m     \u001b[1;32mif\u001b[0m\u001b[1;33m(\u001b[0m\u001b[0mi\u001b[0m\u001b[1;33m%\u001b[0m\u001b[1;36m2\u001b[0m\u001b[1;33m==\u001b[0m\u001b[1;36m0\u001b[0m\u001b[1;33m)\u001b[0m\u001b[1;33m:\u001b[0m\u001b[1;33m\u001b[0m\u001b[1;33m\u001b[0m\u001b[0m\n\u001b[1;32m----> 6\u001b[1;33m         \u001b[0meven_sum\u001b[0m\u001b[1;33m=\u001b[0m \u001b[0meven_sum\u001b[0m\u001b[1;33m+\u001b[0m\u001b[1;36m1\u001b[0m\u001b[1;33m\u001b[0m\u001b[1;33m\u001b[0m\u001b[0m\n\u001b[0m\u001b[0;32m      7\u001b[0m     \u001b[1;32melse\u001b[0m\u001b[1;33m:\u001b[0m\u001b[1;33m\u001b[0m\u001b[1;33m\u001b[0m\u001b[0m\n\u001b[0;32m      8\u001b[0m         \u001b[0modd_sum\u001b[0m\u001b[1;33m=\u001b[0m\u001b[0modd_sum\u001b[0m\u001b[1;33m+\u001b[0m\u001b[1;36m1\u001b[0m\u001b[1;33m\u001b[0m\u001b[1;33m\u001b[0m\u001b[0m\n",
      "\u001b[1;31mKeyboardInterrupt\u001b[0m: "
     ]
    }
   ],
   "source": [
    "i = 0\n",
    "even = 0\n",
    "odd = 0\n",
    "while(i<=10):\n",
    "    if(i%2==0):\n",
    "        even_sum= even_sum+1\n",
    "    else:\n",
    "        odd_sum=odd_sum+1\n",
    "        \n",
    "        i = i+1\n",
    "        \n",
    "\n",
    "\n",
    "print(even_sum,odd_sum)    \n",
    "     \n",
    "      \n",
    "        "
   ]
  },
  {
   "cell_type": "code",
   "execution_count": null,
   "id": "d69ad62d",
   "metadata": {},
   "outputs": [],
   "source": [
    "#break\n",
    "x = 1\n",
    "while(x<=8):\n",
    "    print(x)\n",
    "    if(x==4):\n",
    "        break\n",
    "  \n",
    "    x=x+1\n"
   ]
  },
  {
   "cell_type": "code",
   "execution_count": 45,
   "id": "b2731375",
   "metadata": {},
   "outputs": [
    {
     "name": "stdout",
     "output_type": "stream",
     "text": [
      "2\n",
      "3\n",
      "5\n",
      "6\n",
      "7\n",
      "8\n"
     ]
    }
   ],
   "source": [
    "#continue\n",
    "x = 1\n",
    "while x<8:\n",
    "    x=x+1\n",
    "  \n",
    "    if x==4 :\n",
    "         continue\n",
    "    print(x)        \n",
    "    \n",
    "   \n",
    "    \n",
    "       \n",
    "        \n",
    "  \n",
    "    "
   ]
  },
  {
   "cell_type": "code",
   "execution_count": 25,
   "id": "7269d325",
   "metadata": {},
   "outputs": [
    {
     "name": "stdout",
     "output_type": "stream",
     "text": [
      "input a number32\n",
      "this num is lesser then 34\n"
     ]
    }
   ],
   "source": [
    "a = int(input(\"input a number\"))\n",
    "if a < 34:\n",
    "    print(\"this num is lesser then 34\")\n",
    "else:\n",
    "    print(\"this number is not lesser then 34\")"
   ]
  },
  {
   "cell_type": "code",
   "execution_count": null,
   "id": "e818c54c",
   "metadata": {},
   "outputs": [],
   "source": []
  },
  {
   "cell_type": "code",
   "execution_count": null,
   "id": "678a9c2a",
   "metadata": {},
   "outputs": [],
   "source": []
  },
  {
   "cell_type": "code",
   "execution_count": 26,
   "id": "32d11b15",
   "metadata": {},
   "outputs": [
    {
     "name": "stdout",
     "output_type": "stream",
     "text": [
      "input a number80\n",
      "num is lesser then 100\n"
     ]
    }
   ],
   "source": [
    "a = int(input(\"input a number\"))\n",
    "if a < 34:\n",
    "    print(\"this num is lesser then 34\")\n",
    "elif a <100:\n",
    "    print(\"num is lesser then 100\")\n",
    "else:\n",
    "    print(\"this number is not lesser then 34\")"
   ]
  },
  {
   "cell_type": "code",
   "execution_count": 27,
   "id": "2b7149d2",
   "metadata": {},
   "outputs": [
    {
     "name": "stdout",
     "output_type": "stream",
     "text": [
      "enter your salary600\n",
      "i will go for saving\n"
     ]
    }
   ],
   "source": [
    "salary = int(input(\"enter your salary\"))\n",
    "if salary > 1000:\n",
    "    print(\"i will buy a car\")\n",
    "elif salary < 500:\n",
    "    print(\"i will buy a bike\")\n",
    "elif salary <100:\n",
    "    print (\"i will not buy enything\")\n",
    "else:\n",
    "    print(\"i will go for saving\")"
   ]
  },
  {
   "cell_type": "code",
   "execution_count": 28,
   "id": "3a94821b",
   "metadata": {},
   "outputs": [
    {
     "name": "stdout",
     "output_type": "stream",
     "text": [
      "condition is not valid\n"
     ]
    }
   ],
   "source": [
    "a = 10\n",
    "b = 20\n",
    "\n",
    "if a == 10 and b>20:\n",
    "    print(\"this is valid statment\")\n",
    "elif a == 10 and b<20:\n",
    "    print(\"this is valid inside elif\")\n",
    "else:\n",
    "    print(\"condition is not valid\")"
   ]
  },
  {
   "cell_type": "code",
   "execution_count": 29,
   "id": "e55b0ee6",
   "metadata": {},
   "outputs": [
    {
     "name": "stdout",
     "output_type": "stream",
     "text": [
      "this is valid inside elif\n"
     ]
    }
   ],
   "source": [
    "a = 10\n",
    "b = 20\n",
    "\n",
    "if a == 10 and b>20:\n",
    "    print(\"this is valid statment\")\n",
    "elif a == 10 and b<=20:\n",
    "    print(\"this is valid inside elif\")\n",
    "else:\n",
    "    print(\"condition is not valid\")"
   ]
  },
  {
   "cell_type": "code",
   "execution_count": 30,
   "id": "0acc67d8",
   "metadata": {},
   "outputs": [
    {
     "name": "stdout",
     "output_type": "stream",
     "text": [
      "this is valid statment\n"
     ]
    }
   ],
   "source": [
    "a = 10\n",
    "b = 20\n",
    "\n",
    "if a == 10 or b>20:\n",
    "    print(\"this is valid statment\")\n",
    "elif a == 10 and b<=20:\n",
    "    print(\"this is valid inside elif\")\n",
    "else:\n",
    "    print(\"condition is not valid\")"
   ]
  },
  {
   "cell_type": "code",
   "execution_count": 31,
   "id": "a53ef24b",
   "metadata": {},
   "outputs": [
    {
     "name": "stdout",
     "output_type": "stream",
     "text": [
      "this is correct name\n"
     ]
    }
   ],
   "source": [
    "#task\n",
    "first_name = 'roshni'\n",
    "last_name = 'harinkhede'\n",
    "if first_name =='roshni'and last_name == 'harinkhede':\n",
    "    print(\"this is correct name\")\n",
    "else:\n",
    "    print(\"incorrect\")\n"
   ]
  },
  {
   "cell_type": "code",
   "execution_count": 32,
   "id": "f653a420",
   "metadata": {},
   "outputs": [
    {
     "name": "stdout",
     "output_type": "stream",
     "text": [
      "enter the nameroshni\n",
      "correct name\n"
     ]
    }
   ],
   "source": [
    "i = input(\"enter the name\")\n",
    "if i == \"roshni\":\n",
    "    print(\"correct name\")\n",
    "elif i ==\"rose\":\n",
    "    print(\"write full name\")\n",
    "else:\n",
    "    print(\"incorrect name\")"
   ]
  },
  {
   "cell_type": "code",
   "execution_count": 33,
   "id": "e013e471",
   "metadata": {},
   "outputs": [],
   "source": [
    "# while loop"
   ]
  },
  {
   "cell_type": "code",
   "execution_count": 34,
   "id": "9e97cf2f",
   "metadata": {},
   "outputs": [
    {
     "name": "stdout",
     "output_type": "stream",
     "text": [
      "this is my speed\n",
      "this is my speed\n",
      "this is my speed\n",
      "this is my speed\n",
      "this is my speed\n",
      "this is my speed\n",
      "this is my speed\n",
      "this is my speed\n",
      "this is my speed\n"
     ]
    }
   ],
   "source": [
    "initial_speed = 0\n",
    "final_speed = 100\n",
    "count = 1\n",
    "while initial_speed < final_speed:\n",
    "    print(\"this is my speed\")\n",
    "    count = count + 1\n",
    "    if count == 10:\n",
    "       break"
   ]
  },
  {
   "cell_type": "code",
   "execution_count": 35,
   "id": "dc179219",
   "metadata": {},
   "outputs": [
    {
     "name": "stdout",
     "output_type": "stream",
     "text": [
      "1\n",
      "2\n",
      "3\n",
      "4\n"
     ]
    }
   ],
   "source": [
    "i = 1\n",
    "j = 5\n",
    "while i < j:\n",
    "    print(i)\n",
    "    i = i +1"
   ]
  },
  {
   "cell_type": "code",
   "execution_count": 36,
   "id": "60556ce7",
   "metadata": {},
   "outputs": [
    {
     "name": "stdout",
     "output_type": "stream",
     "text": [
      "1\n",
      "2\n",
      "3\n",
      "4\n",
      "no 10 rs notes are available\n"
     ]
    }
   ],
   "source": [
    "notes = 5\n",
    "i = 1\n",
    "while i < notes:\n",
    "    print(i)\n",
    "    i +=  1\n",
    "else:\n",
    "    print(\"no 10 rs notes are available\")\n",
    "    "
   ]
  },
  {
   "cell_type": "code",
   "execution_count": 37,
   "id": "e2058512",
   "metadata": {},
   "outputs": [],
   "source": [
    "R = \"Roshni\""
   ]
  },
  {
   "cell_type": "code",
   "execution_count": 38,
   "id": "31aa0891",
   "metadata": {},
   "outputs": [
    {
     "data": {
      "text/plain": [
       "'Roshni'"
      ]
     },
     "execution_count": 38,
     "metadata": {},
     "output_type": "execute_result"
    }
   ],
   "source": [
    "R"
   ]
  },
  {
   "cell_type": "code",
   "execution_count": 39,
   "id": "c37d97ab",
   "metadata": {},
   "outputs": [
    {
     "data": {
      "text/plain": [
       "'h'"
      ]
     },
     "execution_count": 39,
     "metadata": {},
     "output_type": "execute_result"
    }
   ],
   "source": [
    "R[3]"
   ]
  },
  {
   "cell_type": "code",
   "execution_count": 40,
   "id": "a0325977",
   "metadata": {},
   "outputs": [
    {
     "data": {
      "text/plain": [
       "'i'"
      ]
     },
     "execution_count": 40,
     "metadata": {},
     "output_type": "execute_result"
    }
   ],
   "source": [
    "R[5]"
   ]
  },
  {
   "cell_type": "code",
   "execution_count": 41,
   "id": "8a50f5bc",
   "metadata": {},
   "outputs": [
    {
     "data": {
      "text/plain": [
       "'my name is Roshni'"
      ]
     },
     "execution_count": 41,
     "metadata": {},
     "output_type": "execute_result"
    }
   ],
   "source": [
    "R = \"my name is Roshni\"\n",
    "R"
   ]
  },
  {
   "cell_type": "code",
   "execution_count": 42,
   "id": "86c3b46c",
   "metadata": {},
   "outputs": [
    {
     "data": {
      "text/plain": [
       "'name is'"
      ]
     },
     "execution_count": 42,
     "metadata": {},
     "output_type": "execute_result"
    }
   ],
   "source": [
    "R[3:10]"
   ]
  },
  {
   "cell_type": "code",
   "execution_count": 43,
   "id": "1110b895",
   "metadata": {},
   "outputs": [
    {
     "data": {
      "text/plain": [
       "'Roshni'"
      ]
     },
     "execution_count": 43,
     "metadata": {},
     "output_type": "execute_result"
    }
   ],
   "source": [
    "R[11:17]"
   ]
  },
  {
   "cell_type": "code",
   "execution_count": 44,
   "id": "c631e820",
   "metadata": {},
   "outputs": [
    {
     "data": {
      "text/plain": [
       "''"
      ]
     },
     "execution_count": 44,
     "metadata": {},
     "output_type": "execute_result"
    }
   ],
   "source": [
    "R[17:11]"
   ]
  },
  {
   "cell_type": "code",
   "execution_count": 45,
   "id": "5148889f",
   "metadata": {},
   "outputs": [
    {
     "data": {
      "text/plain": [
       "' si ema'"
      ]
     },
     "execution_count": 45,
     "metadata": {},
     "output_type": "execute_result"
    }
   ],
   "source": [
    "R[10:3:-1]  # -1 is for reverse order"
   ]
  },
  {
   "cell_type": "code",
   "execution_count": 46,
   "id": "47f6fb0d",
   "metadata": {},
   "outputs": [
    {
     "data": {
      "text/plain": [
       "'nm s'"
      ]
     },
     "execution_count": 46,
     "metadata": {},
     "output_type": "execute_result"
    }
   ],
   "source": [
    "R[3:10:2]  # 2 is for steps"
   ]
  },
  {
   "cell_type": "code",
   "execution_count": 47,
   "id": "cb04159d",
   "metadata": {},
   "outputs": [
    {
     "data": {
      "text/plain": [
       "'my name is Roshni'"
      ]
     },
     "execution_count": 47,
     "metadata": {},
     "output_type": "execute_result"
    }
   ],
   "source": [
    "R"
   ]
  },
  {
   "cell_type": "code",
   "execution_count": 48,
   "id": "d48f19f5",
   "metadata": {},
   "outputs": [
    {
     "data": {
      "text/plain": [
       "'inhsoR'"
      ]
     },
     "execution_count": 48,
     "metadata": {},
     "output_type": "execute_result"
    }
   ],
   "source": [
    "R[17:10:-1]"
   ]
  },
  {
   "cell_type": "code",
   "execution_count": 49,
   "id": "f81e4770",
   "metadata": {},
   "outputs": [
    {
     "data": {
      "text/plain": [
       "'inhsoR si eman ym'"
      ]
     },
     "execution_count": 49,
     "metadata": {},
     "output_type": "execute_result"
    }
   ],
   "source": [
    "R[::-1]"
   ]
  },
  {
   "cell_type": "code",
   "execution_count": 50,
   "id": "534abdd8",
   "metadata": {},
   "outputs": [
    {
     "data": {
      "text/plain": [
       "'name is'"
      ]
     },
     "execution_count": 50,
     "metadata": {},
     "output_type": "execute_result"
    }
   ],
   "source": [
    "R[3:-7]"
   ]
  },
  {
   "cell_type": "code",
   "execution_count": 51,
   "id": "7f9b598b",
   "metadata": {},
   "outputs": [],
   "source": [
    "s = \"roshni\""
   ]
  },
  {
   "cell_type": "code",
   "execution_count": 52,
   "id": "28dd628d",
   "metadata": {},
   "outputs": [
    {
     "data": {
      "text/plain": [
       "'r'"
      ]
     },
     "execution_count": 52,
     "metadata": {},
     "output_type": "execute_result"
    }
   ],
   "source": [
    "s[-6]"
   ]
  },
  {
   "cell_type": "code",
   "execution_count": 53,
   "id": "bd5d558a",
   "metadata": {},
   "outputs": [
    {
     "data": {
      "text/plain": [
       "'r'"
      ]
     },
     "execution_count": 53,
     "metadata": {},
     "output_type": "execute_result"
    }
   ],
   "source": [
    "s[0]"
   ]
  },
  {
   "cell_type": "code",
   "execution_count": 54,
   "id": "c818ff83",
   "metadata": {},
   "outputs": [
    {
     "data": {
      "text/plain": [
       "'roshni'"
      ]
     },
     "execution_count": 54,
     "metadata": {},
     "output_type": "execute_result"
    }
   ],
   "source": [
    "s"
   ]
  },
  {
   "cell_type": "code",
   "execution_count": 55,
   "id": "5795d892",
   "metadata": {},
   "outputs": [
    {
     "data": {
      "text/plain": [
       "'my name is Roshni'"
      ]
     },
     "execution_count": 55,
     "metadata": {},
     "output_type": "execute_result"
    }
   ],
   "source": [
    "R"
   ]
  },
  {
   "cell_type": "code",
   "execution_count": 58,
   "id": "3792ab5e",
   "metadata": {},
   "outputs": [
    {
     "name": "stdout",
     "output_type": "stream",
     "text": [
      "m\n",
      "y\n",
      " \n",
      "n\n",
      "a\n",
      "m\n",
      "e\n",
      " \n",
      "i\n",
      "s\n",
      " \n",
      "R\n",
      "o\n",
      "s\n",
      "h\n",
      "n\n",
      "i\n"
     ]
    }
   ],
   "source": [
    "for i in R:\n",
    "    print(i)"
   ]
  },
  {
   "cell_type": "code",
   "execution_count": 64,
   "id": "2e5a865d",
   "metadata": {},
   "outputs": [
    {
     "name": "stdout",
     "output_type": "stream",
     "text": [
      "m\n",
      "y\n",
      " \n",
      "n\n",
      "a\n",
      "m\n",
      "e\n",
      " \n",
      "i\n",
      "i got string\n",
      "s\n",
      " \n",
      "R\n",
      "o\n",
      "i got string\n",
      "s\n",
      "h\n",
      "n\n",
      "i\n"
     ]
    }
   ],
   "source": [
    "for i in R:\n",
    "    if i == \"s\":\n",
    "        print(\"i got string\")\n",
    "    print(i)    \n",
    "   "
   ]
  },
  {
   "cell_type": "code",
   "execution_count": 65,
   "id": "b5cc71a7",
   "metadata": {},
   "outputs": [
    {
     "name": "stdout",
     "output_type": "stream",
     "text": [
      "m\n",
      "y\n",
      " \n",
      "n\n",
      "a\n",
      "m\n",
      "e\n",
      " \n",
      "i\n",
      "s\n",
      " \n",
      "R\n",
      "o\n",
      "s\n",
      "h\n",
      "n\n",
      "i\n",
      "this is else cond\n"
     ]
    }
   ],
   "source": [
    "for i in R :\n",
    "    print(i)\n",
    "else:\n",
    "    print(\"this is else cond\")"
   ]
  },
  {
   "cell_type": "code",
   "execution_count": 70,
   "id": "2c4ca78a",
   "metadata": {},
   "outputs": [
    {
     "name": "stdout",
     "output_type": "stream",
     "text": [
      "m\n",
      "y\n",
      " \n",
      "n\n",
      "a\n",
      "m\n",
      "e\n",
      " \n",
      "i\n",
      "s\n",
      " \n",
      "R\n",
      "o\n",
      "s\n",
      "h\n",
      "n\n",
      "i\n",
      "this is last char\n",
      "this is else cond\n"
     ]
    }
   ],
   "source": [
    "for i in R :\n",
    "    print(i)\n",
    "else:\n",
    "    if i == i:\n",
    "        print(\"this is last char\")\n",
    "    print(\"this is else cond\")"
   ]
  },
  {
   "cell_type": "code",
   "execution_count": 71,
   "id": "77a09e89",
   "metadata": {},
   "outputs": [
    {
     "name": "stdout",
     "output_type": "stream",
     "text": [
      "m\n",
      "y\n",
      " \n",
      "n\n",
      "a\n",
      "m\n",
      "e\n",
      " \n",
      "i\n",
      "s\n",
      " \n",
      "R\n"
     ]
    }
   ],
   "source": [
    "for i in R :\n",
    "    print(i)\n",
    "    if i == 'R':\n",
    "        break\n",
    "else:\n",
    "    if i == i:\n",
    "        print(\"this is last char\")\n",
    "    print(\"this is else cond\")"
   ]
  },
  {
   "cell_type": "code",
   "execution_count": 89,
   "id": "1494b546",
   "metadata": {},
   "outputs": [
    {
     "name": "stdout",
     "output_type": "stream",
     "text": [
      "m\n",
      "y\n",
      " \n",
      "a\n",
      "m\n",
      "e\n",
      " \n",
      "i\n",
      "s\n",
      " \n",
      "R\n",
      "o\n",
      "s\n",
      "h\n",
      "i\n",
      "this is last char\n"
     ]
    }
   ],
   "source": [
    "for i in R :\n",
    "    if i == 'n':\n",
    "        continue\n",
    "    print(i)\n",
    "else : \n",
    "        if i ==\"i\":\n",
    "            print(\"this is last char\")\n",
    "        \n",
    "        \n"
   ]
  },
  {
   "cell_type": "code",
   "execution_count": 96,
   "id": "8fb1e919",
   "metadata": {},
   "outputs": [
    {
     "name": "stdout",
     "output_type": "stream",
     "text": [
      "+/r\n",
      "++/r\n",
      "+++/r\n",
      "++++/r\n",
      "+++++/r\n",
      "++++++/r\n",
      "+++++++/r\n"
     ]
    }
   ],
   "source": [
    "n = 7\n",
    "for i in range(0,n):\n",
    "    for j in range(0,i +1):\n",
    "        print(\"+\",end= \"\")\n",
    "    print(\"/r\")    \n",
    " "
   ]
  },
  {
   "cell_type": "code",
   "execution_count": 111,
   "id": "e8fb7c79",
   "metadata": {},
   "outputs": [
    {
     "name": "stdout",
     "output_type": "stream",
     "text": [
      "        * * * * * * \n",
      "         * * * * * \n",
      "          * * * * \n",
      "           * * * \n",
      "            * * \n",
      "             * \n"
     ]
    }
   ],
   "source": [
    "num = 5\n",
    "m = 2 * num -2\n",
    "for i in range(num,-1,-1):\n",
    "    for j in range(m,0, -1):\n",
    "        print(end= \" \")\n",
    "    m = m + 1\n",
    "    for j in range(0 , i +1):\n",
    "        print(\"*\", end = \" \")\n",
    "    print(\"\")    \n",
    "       "
   ]
  },
  {
   "cell_type": "code",
   "execution_count": 108,
   "id": "e7edeee4",
   "metadata": {},
   "outputs": [
    {
     "name": "stdout",
     "output_type": "stream",
     "text": [
      "5\n",
      "4\n",
      "3\n",
      "2\n",
      "1\n",
      "0\n"
     ]
    }
   ],
   "source": [
    "for i in range(num,-1,-1):\n",
    "    print(i)"
   ]
  },
  {
   "cell_type": "code",
   "execution_count": 110,
   "id": "4e1354f0",
   "metadata": {},
   "outputs": [
    {
     "name": "stdout",
     "output_type": "stream",
     "text": [
      "                                                "
     ]
    }
   ],
   "source": [
    "num = 5\n",
    "m = 2 * num -2\n",
    "for i in range(num , -1 ,-1):\n",
    "    for j in range(m , 0, -1):\n",
    "        print(end= \" \")"
   ]
  },
  {
   "cell_type": "code",
   "execution_count": 4,
   "id": "d92b451c",
   "metadata": {},
   "outputs": [
    {
     "name": "stdout",
     "output_type": "stream",
     "text": [
      "+ /r\n",
      "+ + /r\n",
      "+ + + /r\n",
      "+ + + + /r\n",
      "+ + + + + /r\n",
      "+ + + + + + /r\n",
      "+ + + + + + + /r\n"
     ]
    }
   ],
   "source": [
    "n = 7\n",
    "for i in range(0,n):\n",
    "    for j in range(0,i +1):\n",
    "        print(\"+\", end = \" \")\n",
    "    print(\"/r\")    "
   ]
  },
  {
   "cell_type": "code",
   "execution_count": 1,
   "id": "09f90401",
   "metadata": {},
   "outputs": [],
   "source": [
    "bacon=22"
   ]
  },
  {
   "cell_type": "code",
   "execution_count": 2,
   "id": "1e658c82",
   "metadata": {},
   "outputs": [
    {
     "data": {
      "text/plain": [
       "23"
      ]
     },
     "execution_count": 2,
     "metadata": {},
     "output_type": "execute_result"
    }
   ],
   "source": [
    "bacon+1"
   ]
  },
  {
   "cell_type": "code",
   "execution_count": null,
   "id": "ca5a22e8",
   "metadata": {},
   "outputs": [],
   "source": []
  }
 ],
 "metadata": {
  "kernelspec": {
   "display_name": "Python 3",
   "language": "python",
   "name": "python3"
  },
  "language_info": {
   "codemirror_mode": {
    "name": "ipython",
    "version": 3
   },
   "file_extension": ".py",
   "mimetype": "text/x-python",
   "name": "python",
   "nbconvert_exporter": "python",
   "pygments_lexer": "ipython3",
   "version": "3.8.8"
  }
 },
 "nbformat": 4,
 "nbformat_minor": 5
}
