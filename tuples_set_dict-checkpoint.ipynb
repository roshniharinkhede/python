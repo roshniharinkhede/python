{
 "cells": [
  {
   "cell_type": "markdown",
   "id": "50790583",
   "metadata": {},
   "source": [
    "# Tuples\n"
   ]
  },
  {
   "cell_type": "code",
   "execution_count": 1,
   "id": "d04e853b",
   "metadata": {},
   "outputs": [],
   "source": [
    "t = ()"
   ]
  },
  {
   "cell_type": "code",
   "execution_count": 2,
   "id": "51646a40",
   "metadata": {},
   "outputs": [
    {
     "data": {
      "text/plain": [
       "tuple"
      ]
     },
     "execution_count": 2,
     "metadata": {},
     "output_type": "execute_result"
    }
   ],
   "source": [
    "type(t)"
   ]
  },
  {
   "cell_type": "code",
   "execution_count": 3,
   "id": "17d2486d",
   "metadata": {},
   "outputs": [],
   "source": [
    "l = []"
   ]
  },
  {
   "cell_type": "code",
   "execution_count": 4,
   "id": "9110b253",
   "metadata": {},
   "outputs": [
    {
     "data": {
      "text/plain": [
       "list"
      ]
     },
     "execution_count": 4,
     "metadata": {},
     "output_type": "execute_result"
    }
   ],
   "source": [
    "type(l)"
   ]
  },
  {
   "cell_type": "code",
   "execution_count": 5,
   "id": "2289be78",
   "metadata": {},
   "outputs": [],
   "source": [
    "t1 = (23,456,234,'roshni',34.3,'hari')"
   ]
  },
  {
   "cell_type": "code",
   "execution_count": 6,
   "id": "dc5dfe1a",
   "metadata": {},
   "outputs": [],
   "source": [
    "li = [45,678,45,'urvi',45,6,'nisha']"
   ]
  },
  {
   "cell_type": "code",
   "execution_count": 8,
   "id": "46957704",
   "metadata": {},
   "outputs": [
    {
     "data": {
      "text/plain": [
       "'roshni'"
      ]
     },
     "execution_count": 8,
     "metadata": {},
     "output_type": "execute_result"
    }
   ],
   "source": [
    "t1[3]"
   ]
  },
  {
   "cell_type": "code",
   "execution_count": 9,
   "id": "615a8326",
   "metadata": {},
   "outputs": [
    {
     "data": {
      "text/plain": [
       "(23, 456, 234, 'roshni', 34.3, 'hari')"
      ]
     },
     "execution_count": 9,
     "metadata": {},
     "output_type": "execute_result"
    }
   ],
   "source": [
    "t1[:]"
   ]
  },
  {
   "cell_type": "code",
   "execution_count": 10,
   "id": "828c0fce",
   "metadata": {},
   "outputs": [
    {
     "data": {
      "text/plain": [
       "(23, 456, 234, 'roshni', 34.3, 'hari')"
      ]
     },
     "execution_count": 10,
     "metadata": {},
     "output_type": "execute_result"
    }
   ],
   "source": [
    "t1[0:6]"
   ]
  },
  {
   "cell_type": "code",
   "execution_count": 11,
   "id": "66e4f52a",
   "metadata": {},
   "outputs": [
    {
     "data": {
      "text/plain": [
       "('hari', 34.3, 'roshni', 234, 456, 23)"
      ]
     },
     "execution_count": 11,
     "metadata": {},
     "output_type": "execute_result"
    }
   ],
   "source": [
    "t1[::-1]"
   ]
  },
  {
   "cell_type": "code",
   "execution_count": 12,
   "id": "a114efa5",
   "metadata": {},
   "outputs": [
    {
     "data": {
      "text/plain": [
       "'hari'"
      ]
     },
     "execution_count": 12,
     "metadata": {},
     "output_type": "execute_result"
    }
   ],
   "source": [
    "t1[-1]"
   ]
  },
  {
   "cell_type": "code",
   "execution_count": 15,
   "id": "8146e585",
   "metadata": {},
   "outputs": [
    {
     "data": {
      "text/plain": [
       "[45, 678, 45, 'urvi', 45, 6, 'nisha']"
      ]
     },
     "execution_count": 15,
     "metadata": {},
     "output_type": "execute_result"
    }
   ],
   "source": [
    "li"
   ]
  },
  {
   "cell_type": "code",
   "execution_count": 16,
   "id": "166ef635",
   "metadata": {},
   "outputs": [
    {
     "data": {
      "text/plain": [
       "45"
      ]
     },
     "execution_count": 16,
     "metadata": {},
     "output_type": "execute_result"
    }
   ],
   "source": [
    "li[0]"
   ]
  },
  {
   "cell_type": "code",
   "execution_count": 17,
   "id": "cee130e7",
   "metadata": {},
   "outputs": [
    {
     "data": {
      "text/plain": [
       "(23, 456, 234, 'roshni', 34.3, 'hari')"
      ]
     },
     "execution_count": 17,
     "metadata": {},
     "output_type": "execute_result"
    }
   ],
   "source": [
    "t1"
   ]
  },
  {
   "cell_type": "code",
   "execution_count": 18,
   "id": "1076a110",
   "metadata": {},
   "outputs": [],
   "source": [
    "t2 = (67,'bisen')"
   ]
  },
  {
   "cell_type": "code",
   "execution_count": 19,
   "id": "0c6c9534",
   "metadata": {},
   "outputs": [
    {
     "data": {
      "text/plain": [
       "(23, 456, 234, 'roshni', 34.3, 'hari', 67, 'bisen')"
      ]
     },
     "execution_count": 19,
     "metadata": {},
     "output_type": "execute_result"
    }
   ],
   "source": [
    "t1+t2"
   ]
  },
  {
   "cell_type": "code",
   "execution_count": 20,
   "id": "00e0da0f",
   "metadata": {},
   "outputs": [
    {
     "data": {
      "text/plain": [
       "(23,\n",
       " 456,\n",
       " 234,\n",
       " 'roshni',\n",
       " 34.3,\n",
       " 'hari',\n",
       " 23,\n",
       " 456,\n",
       " 234,\n",
       " 'roshni',\n",
       " 34.3,\n",
       " 'hari',\n",
       " 23,\n",
       " 456,\n",
       " 234,\n",
       " 'roshni',\n",
       " 34.3,\n",
       " 'hari',\n",
       " 23,\n",
       " 456,\n",
       " 234,\n",
       " 'roshni',\n",
       " 34.3,\n",
       " 'hari')"
      ]
     },
     "execution_count": 20,
     "metadata": {},
     "output_type": "execute_result"
    }
   ],
   "source": [
    "t1*4"
   ]
  },
  {
   "cell_type": "code",
   "execution_count": 21,
   "id": "1eeddef3",
   "metadata": {},
   "outputs": [
    {
     "data": {
      "text/plain": [
       "True"
      ]
     },
     "execution_count": 21,
     "metadata": {},
     "output_type": "execute_result"
    }
   ],
   "source": [
    "\"roshni\" in t1"
   ]
  },
  {
   "cell_type": "code",
   "execution_count": 22,
   "id": "9e21ef6b",
   "metadata": {},
   "outputs": [
    {
     "ename": "TypeError",
     "evalue": "'>' not supported between instances of 'str' and 'int'",
     "output_type": "error",
     "traceback": [
      "\u001b[1;31m---------------------------------------------------------------------------\u001b[0m",
      "\u001b[1;31mTypeError\u001b[0m                                 Traceback (most recent call last)",
      "\u001b[1;32m<ipython-input-22-07c1bf72392e>\u001b[0m in \u001b[0;36m<module>\u001b[1;34m\u001b[0m\n\u001b[1;32m----> 1\u001b[1;33m \u001b[0mmax\u001b[0m\u001b[1;33m(\u001b[0m\u001b[0mt1\u001b[0m\u001b[1;33m)\u001b[0m\u001b[1;33m\u001b[0m\u001b[1;33m\u001b[0m\u001b[0m\n\u001b[0m",
      "\u001b[1;31mTypeError\u001b[0m: '>' not supported between instances of 'str' and 'int'"
     ]
    }
   ],
   "source": [
    "max(t1)"
   ]
  },
  {
   "cell_type": "code",
   "execution_count": 29,
   "id": "a0a7509f",
   "metadata": {},
   "outputs": [],
   "source": [
    "t3=(67,45,34,69,34,34)"
   ]
  },
  {
   "cell_type": "code",
   "execution_count": 30,
   "id": "d6cfd20c",
   "metadata": {},
   "outputs": [
    {
     "data": {
      "text/plain": [
       "69"
      ]
     },
     "execution_count": 30,
     "metadata": {},
     "output_type": "execute_result"
    }
   ],
   "source": [
    "max(t3)"
   ]
  },
  {
   "cell_type": "code",
   "execution_count": 27,
   "id": "e5a755ed",
   "metadata": {},
   "outputs": [],
   "source": [
    "t4=('a','f','u','f')"
   ]
  },
  {
   "cell_type": "code",
   "execution_count": 28,
   "id": "2741822f",
   "metadata": {},
   "outputs": [
    {
     "data": {
      "text/plain": [
       "'u'"
      ]
     },
     "execution_count": 28,
     "metadata": {},
     "output_type": "execute_result"
    }
   ],
   "source": [
    "max(t4)"
   ]
  },
  {
   "cell_type": "code",
   "execution_count": 31,
   "id": "a6c7217e",
   "metadata": {},
   "outputs": [
    {
     "data": {
      "text/plain": [
       "3"
      ]
     },
     "execution_count": 31,
     "metadata": {},
     "output_type": "execute_result"
    }
   ],
   "source": [
    "t3.index(69)"
   ]
  },
  {
   "cell_type": "code",
   "execution_count": 32,
   "id": "724a3869",
   "metadata": {},
   "outputs": [
    {
     "data": {
      "text/plain": [
       "3"
      ]
     },
     "execution_count": 32,
     "metadata": {},
     "output_type": "execute_result"
    }
   ],
   "source": [
    "t3.count(34)"
   ]
  },
  {
   "cell_type": "code",
   "execution_count": 33,
   "id": "0d884429",
   "metadata": {},
   "outputs": [],
   "source": [
    "l2 = list(t1)"
   ]
  },
  {
   "cell_type": "code",
   "execution_count": 37,
   "id": "573efa2b",
   "metadata": {},
   "outputs": [
    {
     "data": {
      "text/plain": [
       "[23, 456, 234, 'roshni', 34.3, 'hari']"
      ]
     },
     "execution_count": 37,
     "metadata": {},
     "output_type": "execute_result"
    }
   ],
   "source": [
    "l2   # we can change tuple  to list"
   ]
  },
  {
   "cell_type": "code",
   "execution_count": 35,
   "id": "7841d40a",
   "metadata": {},
   "outputs": [],
   "source": [
    "t3 = tuple(l2)"
   ]
  },
  {
   "cell_type": "code",
   "execution_count": 38,
   "id": "f78e5c7f",
   "metadata": {},
   "outputs": [
    {
     "data": {
      "text/plain": [
       "(23, 456, 234, 'roshni', 34.3, 'hari')"
      ]
     },
     "execution_count": 38,
     "metadata": {},
     "output_type": "execute_result"
    }
   ],
   "source": [
    "t3   # we can change list in to tuple"
   ]
  },
  {
   "cell_type": "code",
   "execution_count": 39,
   "id": "d3ce32e3",
   "metadata": {},
   "outputs": [],
   "source": [
    "t4 = 36"
   ]
  },
  {
   "cell_type": "code",
   "execution_count": 42,
   "id": "8dd1349d",
   "metadata": {},
   "outputs": [],
   "source": [
    "l2.insert(2,t4) # we can insert items"
   ]
  },
  {
   "cell_type": "code",
   "execution_count": 41,
   "id": "b57910f4",
   "metadata": {},
   "outputs": [
    {
     "data": {
      "text/plain": [
       "[23, 456, 36, 234, 'roshni', 34.3, 'hari']"
      ]
     },
     "execution_count": 41,
     "metadata": {},
     "output_type": "execute_result"
    }
   ],
   "source": [
    "l2"
   ]
  },
  {
   "cell_type": "markdown",
   "id": "d57eac10",
   "metadata": {},
   "source": [
    "# Nested tuples"
   ]
  },
  {
   "cell_type": "code",
   "execution_count": 51,
   "id": "8711d0a6",
   "metadata": {},
   "outputs": [],
   "source": [
    "t = ((3,4,5,6,),(\"rosh\",'hari',34.5),45,67,[2,3,4,5])"
   ]
  },
  {
   "cell_type": "code",
   "execution_count": 52,
   "id": "4fd83e9d",
   "metadata": {},
   "outputs": [
    {
     "data": {
      "text/plain": [
       "((3, 4, 5, 6), ('rosh', 'hari', 34.5), 45, 67, [2, 3, 4, 5])"
      ]
     },
     "execution_count": 52,
     "metadata": {},
     "output_type": "execute_result"
    }
   ],
   "source": [
    "t"
   ]
  },
  {
   "cell_type": "code",
   "execution_count": 53,
   "id": "6fd596f8",
   "metadata": {},
   "outputs": [
    {
     "data": {
      "text/plain": [
       "[3, 4, 5]"
      ]
     },
     "execution_count": 53,
     "metadata": {},
     "output_type": "execute_result"
    }
   ],
   "source": [
    "t[4][1:4] # we extract items"
   ]
  },
  {
   "cell_type": "code",
   "execution_count": 54,
   "id": "478af301",
   "metadata": {},
   "outputs": [
    {
     "data": {
      "text/plain": [
       "'rosh'"
      ]
     },
     "execution_count": 54,
     "metadata": {},
     "output_type": "execute_result"
    }
   ],
   "source": [
    "t[1][0]"
   ]
  },
  {
   "cell_type": "code",
   "execution_count": 56,
   "id": "f54af0ca",
   "metadata": {},
   "outputs": [
    {
     "name": "stdout",
     "output_type": "stream",
     "text": [
      "3\n",
      "rosh\n"
     ]
    }
   ],
   "source": [
    "for i in t:\n",
    "    if type(i)==tuple:\n",
    "        print(i[0])"
   ]
  },
  {
   "cell_type": "code",
   "execution_count": 58,
   "id": "30e6cd0b",
   "metadata": {},
   "outputs": [
    {
     "data": {
      "text/plain": [
       "(23, 456, 234, 'roshni', 34.3, 'hari')"
      ]
     },
     "execution_count": 58,
     "metadata": {},
     "output_type": "execute_result"
    }
   ],
   "source": [
    "t1"
   ]
  },
  {
   "cell_type": "code",
   "execution_count": 59,
   "id": "8d3377ef",
   "metadata": {},
   "outputs": [
    {
     "data": {
      "text/plain": [
       "(67, 'bisen')"
      ]
     },
     "execution_count": 59,
     "metadata": {},
     "output_type": "execute_result"
    }
   ],
   "source": [
    "t2"
   ]
  },
  {
   "cell_type": "code",
   "execution_count": 60,
   "id": "79367785",
   "metadata": {},
   "outputs": [
    {
     "name": "stdout",
     "output_type": "stream",
     "text": [
      "not same\n"
     ]
    }
   ],
   "source": [
    "if len(t1)==(t2):\n",
    "    print(\"its same\")\n",
    "else:\n",
    "    print(\"not same\")"
   ]
  },
  {
   "cell_type": "code",
   "execution_count": 70,
   "id": "a6ec167c",
   "metadata": {},
   "outputs": [],
   "source": [
    "t6 = (\"roshni\",56,89)"
   ]
  },
  {
   "cell_type": "code",
   "execution_count": 71,
   "id": "cd00a68e",
   "metadata": {},
   "outputs": [
    {
     "name": "stdout",
     "output_type": "stream",
     "text": [
      "take a user inputroshni\n",
      "your name is available\n"
     ]
    }
   ],
   "source": [
    "i = input(\"take a user input\")\n",
    "\n",
    "\n",
    "if i in t6:\n",
    "    print(\"your name is available\")\n",
    "else:\n",
    "     print(\"your name is not available\")\n",
    "    \n",
    "          \n",
    "                \n",
    "        \n",
    "          \n",
    "    "
   ]
  },
  {
   "cell_type": "code",
   "execution_count": 72,
   "id": "01c542e0",
   "metadata": {},
   "outputs": [
    {
     "data": {
      "text/plain": [
       "(23, 456, 234, 'roshni', 34.3, 'hari')"
      ]
     },
     "execution_count": 72,
     "metadata": {},
     "output_type": "execute_result"
    }
   ],
   "source": [
    "t1"
   ]
  },
  {
   "cell_type": "code",
   "execution_count": 74,
   "id": "d6c6b68e",
   "metadata": {},
   "outputs": [],
   "source": [
    "t4 = (23)"
   ]
  },
  {
   "cell_type": "code",
   "execution_count": 75,
   "id": "44b9ada9",
   "metadata": {},
   "outputs": [],
   "source": [
    "del(t1)"
   ]
  },
  {
   "cell_type": "code",
   "execution_count": 76,
   "id": "d50f9a40",
   "metadata": {},
   "outputs": [
    {
     "ename": "NameError",
     "evalue": "name 't1' is not defined",
     "output_type": "error",
     "traceback": [
      "\u001b[1;31m---------------------------------------------------------------------------\u001b[0m",
      "\u001b[1;31mNameError\u001b[0m                                 Traceback (most recent call last)",
      "\u001b[1;32m<ipython-input-76-5db19043943a>\u001b[0m in \u001b[0;36m<module>\u001b[1;34m\u001b[0m\n\u001b[1;32m----> 1\u001b[1;33m \u001b[0mt1\u001b[0m\u001b[1;33m\u001b[0m\u001b[1;33m\u001b[0m\u001b[0m\n\u001b[0m",
      "\u001b[1;31mNameError\u001b[0m: name 't1' is not defined"
     ]
    }
   ],
   "source": [
    "t1"
   ]
  },
  {
   "cell_type": "markdown",
   "id": "74e5cce4",
   "metadata": {},
   "source": [
    "# Set"
   ]
  },
  {
   "cell_type": "code",
   "execution_count": 77,
   "id": "f90d2a04",
   "metadata": {},
   "outputs": [],
   "source": [
    "x = set()"
   ]
  },
  {
   "cell_type": "code",
   "execution_count": 78,
   "id": "502f1cd9",
   "metadata": {},
   "outputs": [
    {
     "data": {
      "text/plain": [
       "set"
      ]
     },
     "execution_count": 78,
     "metadata": {},
     "output_type": "execute_result"
    }
   ],
   "source": [
    "type(x)"
   ]
  },
  {
   "cell_type": "code",
   "execution_count": 79,
   "id": "febf6345",
   "metadata": {},
   "outputs": [],
   "source": [
    "l = [34,45,34,67,67,67,\"roshni\",\"roshni\",\"bisen\"]"
   ]
  },
  {
   "cell_type": "code",
   "execution_count": 81,
   "id": "47e4a33e",
   "metadata": {},
   "outputs": [
    {
     "data": {
      "text/plain": [
       "{34, 45, 67, 'bisen', 'roshni'}"
      ]
     },
     "execution_count": 81,
     "metadata": {},
     "output_type": "execute_result"
    }
   ],
   "source": [
    "set(l)  # we are able to delelete duplicate values using of set"
   ]
  },
  {
   "cell_type": "code",
   "execution_count": 85,
   "id": "471bf630",
   "metadata": {},
   "outputs": [],
   "source": [
    "s = set(l)"
   ]
  },
  {
   "cell_type": "code",
   "execution_count": 86,
   "id": "5e9290ce",
   "metadata": {},
   "outputs": [
    {
     "name": "stdout",
     "output_type": "stream",
     "text": [
      "34\n",
      "67\n",
      "45\n",
      "roshni\n",
      "bisen\n"
     ]
    }
   ],
   "source": [
    "for i in s:\n",
    "    print(i)"
   ]
  },
  {
   "cell_type": "code",
   "execution_count": 87,
   "id": "4696b657",
   "metadata": {},
   "outputs": [
    {
     "data": {
      "text/plain": [
       "True"
      ]
     },
     "execution_count": 87,
     "metadata": {},
     "output_type": "execute_result"
    }
   ],
   "source": [
    "34 in s"
   ]
  },
  {
   "cell_type": "code",
   "execution_count": 88,
   "id": "43e0a620",
   "metadata": {},
   "outputs": [
    {
     "ename": "TypeError",
     "evalue": "'set' object is not subscriptable",
     "output_type": "error",
     "traceback": [
      "\u001b[1;31m---------------------------------------------------------------------------\u001b[0m",
      "\u001b[1;31mTypeError\u001b[0m                                 Traceback (most recent call last)",
      "\u001b[1;32m<ipython-input-88-c9c96910e542>\u001b[0m in \u001b[0;36m<module>\u001b[1;34m\u001b[0m\n\u001b[1;32m----> 1\u001b[1;33m \u001b[0ms\u001b[0m\u001b[1;33m[\u001b[0m\u001b[1;36m0\u001b[0m\u001b[1;33m]\u001b[0m\u001b[1;33m\u001b[0m\u001b[1;33m\u001b[0m\u001b[0m\n\u001b[0m",
      "\u001b[1;31mTypeError\u001b[0m: 'set' object is not subscriptable"
     ]
    }
   ],
   "source": [
    "s[0]  # we can not indexing in case of set"
   ]
  },
  {
   "cell_type": "code",
   "execution_count": 89,
   "id": "68ff6b83",
   "metadata": {},
   "outputs": [
    {
     "data": {
      "text/plain": [
       "set()"
      ]
     },
     "execution_count": 89,
     "metadata": {},
     "output_type": "execute_result"
    }
   ],
   "source": [
    "s = set()\n",
    "s"
   ]
  },
  {
   "cell_type": "code",
   "execution_count": 91,
   "id": "5ed67fe4",
   "metadata": {},
   "outputs": [],
   "source": [
    "s.add(45)"
   ]
  },
  {
   "cell_type": "code",
   "execution_count": 92,
   "id": "0b3b0f39",
   "metadata": {},
   "outputs": [
    {
     "data": {
      "text/plain": [
       "{45}"
      ]
     },
     "execution_count": 92,
     "metadata": {},
     "output_type": "execute_result"
    }
   ],
   "source": [
    "s"
   ]
  },
  {
   "cell_type": "code",
   "execution_count": 93,
   "id": "12db4ef3",
   "metadata": {},
   "outputs": [
    {
     "data": {
      "text/plain": [
       "{45, 'roshni'}"
      ]
     },
     "execution_count": 93,
     "metadata": {},
     "output_type": "execute_result"
    }
   ],
   "source": [
    "s.add(\"roshni\")\n",
    "s"
   ]
  },
  {
   "cell_type": "code",
   "execution_count": 94,
   "id": "81a1e49b",
   "metadata": {},
   "outputs": [
    {
     "data": {
      "text/plain": [
       "{'roshni'}"
      ]
     },
     "execution_count": 94,
     "metadata": {},
     "output_type": "execute_result"
    }
   ],
   "source": [
    "s.remove(45)\n",
    "s"
   ]
  },
  {
   "cell_type": "code",
   "execution_count": 95,
   "id": "5fcde0e5",
   "metadata": {},
   "outputs": [],
   "source": [
    "s.clear()"
   ]
  },
  {
   "cell_type": "code",
   "execution_count": 96,
   "id": "82c4ce6e",
   "metadata": {},
   "outputs": [
    {
     "data": {
      "text/plain": [
       "set()"
      ]
     },
     "execution_count": 96,
     "metadata": {},
     "output_type": "execute_result"
    }
   ],
   "source": [
    "s"
   ]
  },
  {
   "cell_type": "code",
   "execution_count": 97,
   "id": "c88a692b",
   "metadata": {},
   "outputs": [],
   "source": [
    "s.add(\"rosh\")"
   ]
  },
  {
   "cell_type": "code",
   "execution_count": 98,
   "id": "5e14fa8d",
   "metadata": {},
   "outputs": [],
   "source": [
    "s.add(45)"
   ]
  },
  {
   "cell_type": "code",
   "execution_count": 99,
   "id": "d5fac1f2",
   "metadata": {},
   "outputs": [
    {
     "data": {
      "text/plain": [
       "{45, 567, 'rosh'}"
      ]
     },
     "execution_count": 99,
     "metadata": {},
     "output_type": "execute_result"
    }
   ],
   "source": [
    "s.add(567)\n",
    "s"
   ]
  },
  {
   "cell_type": "code",
   "execution_count": 100,
   "id": "68f0ddc3",
   "metadata": {},
   "outputs": [],
   "source": [
    "s1=set(l)"
   ]
  },
  {
   "cell_type": "code",
   "execution_count": 101,
   "id": "efe842b7",
   "metadata": {},
   "outputs": [
    {
     "data": {
      "text/plain": [
       "{34, 45, 67, 'bisen', 'roshni'}"
      ]
     },
     "execution_count": 101,
     "metadata": {},
     "output_type": "execute_result"
    }
   ],
   "source": [
    "l=[34,456,347,\"rosh\",\"freds\"]\n",
    "s1"
   ]
  },
  {
   "cell_type": "code",
   "execution_count": 102,
   "id": "01fe78bd",
   "metadata": {},
   "outputs": [
    {
     "ename": "TypeError",
     "evalue": "unsupported operand type(s) for +: 'set' and 'set'",
     "output_type": "error",
     "traceback": [
      "\u001b[1;31m---------------------------------------------------------------------------\u001b[0m",
      "\u001b[1;31mTypeError\u001b[0m                                 Traceback (most recent call last)",
      "\u001b[1;32m<ipython-input-102-d4a57f000bc9>\u001b[0m in \u001b[0;36m<module>\u001b[1;34m\u001b[0m\n\u001b[1;32m----> 1\u001b[1;33m \u001b[0ms\u001b[0m\u001b[1;33m+\u001b[0m\u001b[0ms1\u001b[0m\u001b[1;33m\u001b[0m\u001b[1;33m\u001b[0m\u001b[0m\n\u001b[0m",
      "\u001b[1;31mTypeError\u001b[0m: unsupported operand type(s) for +: 'set' and 'set'"
     ]
    }
   ],
   "source": [
    "s+s1"
   ]
  },
  {
   "cell_type": "code",
   "execution_count": 3,
   "id": "86b986b9",
   "metadata": {},
   "outputs": [
    {
     "data": {
      "text/plain": [
       "{2, 3, 4, 5}"
      ]
     },
     "execution_count": 3,
     "metadata": {},
     "output_type": "execute_result"
    }
   ],
   "source": [
    "l2 = [2,3,4,5]\n",
    "s1 = set(l2)\n",
    "s1"
   ]
  },
  {
   "cell_type": "code",
   "execution_count": 4,
   "id": "d7b8a152",
   "metadata": {},
   "outputs": [],
   "source": [
    "l3 = list(s1)"
   ]
  },
  {
   "cell_type": "code",
   "execution_count": 5,
   "id": "1d394bde",
   "metadata": {},
   "outputs": [
    {
     "data": {
      "text/plain": [
       "[2, 3, 4, 5]"
      ]
     },
     "execution_count": 5,
     "metadata": {},
     "output_type": "execute_result"
    }
   ],
   "source": [
    "l3"
   ]
  },
  {
   "cell_type": "code",
   "execution_count": 7,
   "id": "bdcd1580",
   "metadata": {},
   "outputs": [
    {
     "data": {
      "text/plain": [
       "[2, 3, 4, 5, 'rosh']"
      ]
     },
     "execution_count": 7,
     "metadata": {},
     "output_type": "execute_result"
    }
   ],
   "source": [
    "l3.append(\"rosh\")\n",
    "l3"
   ]
  },
  {
   "cell_type": "code",
   "execution_count": 9,
   "id": "89d6b70a",
   "metadata": {},
   "outputs": [],
   "source": [
    "t=tuple(s1)"
   ]
  },
  {
   "cell_type": "code",
   "execution_count": 10,
   "id": "9d20bdad",
   "metadata": {},
   "outputs": [
    {
     "data": {
      "text/plain": [
       "{2, 3, 4, 5}"
      ]
     },
     "execution_count": 10,
     "metadata": {},
     "output_type": "execute_result"
    }
   ],
   "source": [
    "set(t)"
   ]
  },
  {
   "cell_type": "markdown",
   "id": "bf6d4ba9",
   "metadata": {},
   "source": [
    "# Tuples"
   ]
  },
  {
   "cell_type": "code",
   "execution_count": 11,
   "id": "4fcb55ac",
   "metadata": {},
   "outputs": [
    {
     "data": {
      "text/plain": [
       "dict"
      ]
     },
     "execution_count": 11,
     "metadata": {},
     "output_type": "execute_result"
    }
   ],
   "source": [
    "x = {}\n",
    "type(x)"
   ]
  },
  {
   "cell_type": "code",
   "execution_count": 13,
   "id": "26f583b7",
   "metadata": {},
   "outputs": [
    {
     "data": {
      "text/plain": [
       "set"
      ]
     },
     "execution_count": 13,
     "metadata": {},
     "output_type": "execute_result"
    }
   ],
   "source": [
    "x1={3,4}\n",
    "type(x1)"
   ]
  },
  {
   "cell_type": "code",
   "execution_count": 14,
   "id": "26e3b8cb",
   "metadata": {},
   "outputs": [
    {
     "data": {
      "text/plain": [
       "{'name': 'roshni', 'age': 33}"
      ]
     },
     "execution_count": 14,
     "metadata": {},
     "output_type": "execute_result"
    }
   ],
   "source": [
    "x={\"name\":\"roshni\",\"age\":33}\n",
    "x"
   ]
  },
  {
   "cell_type": "code",
   "execution_count": 15,
   "id": "60565417",
   "metadata": {},
   "outputs": [
    {
     "data": {
      "text/plain": [
       "dict"
      ]
     },
     "execution_count": 15,
     "metadata": {},
     "output_type": "execute_result"
    }
   ],
   "source": [
    "type(x)"
   ]
  },
  {
   "cell_type": "code",
   "execution_count": 18,
   "id": "2030c35f",
   "metadata": {},
   "outputs": [],
   "source": [
    "x1 = {\"name\":\"roshni\",\"age\":33,\"name\":\"urvija\",34:4567,True: 456}"
   ]
  },
  {
   "cell_type": "code",
   "execution_count": 19,
   "id": "7932299d",
   "metadata": {},
   "outputs": [
    {
     "data": {
      "text/plain": [
       "{'name': 'urvija', 'age': 33, 34: 4567, True: 456}"
      ]
     },
     "execution_count": 19,
     "metadata": {},
     "output_type": "execute_result"
    }
   ],
   "source": [
    "x1"
   ]
  },
  {
   "cell_type": "code",
   "execution_count": 20,
   "id": "a67edde9",
   "metadata": {},
   "outputs": [
    {
     "data": {
      "text/plain": [
       "{'name': 'urvija', 'age': 33, 34: [4, 5, 6, 7], True: 456}"
      ]
     },
     "execution_count": 20,
     "metadata": {},
     "output_type": "execute_result"
    }
   ],
   "source": [
    "x2 = {\"name\":(4,4,567),\"age\":33,\"name\":\"urvija\",34:[4,5,6,7],True: 456}\n",
    "x2"
   ]
  },
  {
   "cell_type": "code",
   "execution_count": 23,
   "id": "cfdac59b",
   "metadata": {},
   "outputs": [
    {
     "data": {
      "text/plain": [
       "6"
      ]
     },
     "execution_count": 23,
     "metadata": {},
     "output_type": "execute_result"
    }
   ],
   "source": [
    "x2[34][2]"
   ]
  },
  {
   "cell_type": "markdown",
   "id": "2b8d3821",
   "metadata": {},
   "source": [
    "\n",
    "                    "
   ]
  },
  {
   "cell_type": "code",
   "execution_count": 31,
   "id": "3c997024",
   "metadata": {},
   "outputs": [],
   "source": [
    "x2 = {\"name\":{\"k1\":45,'k2':[45,67,89]},\"age\":33,\"l_name\":\"urvija\",34:4567,True: 456}"
   ]
  },
  {
   "cell_type": "code",
   "execution_count": 32,
   "id": "2b4aa6fa",
   "metadata": {},
   "outputs": [
    {
     "data": {
      "text/plain": [
       "{'name': {'k1': 45, 'k2': [45, 67, 89]},\n",
       " 'age': 33,\n",
       " 'l_name': 'urvija',\n",
       " 34: 4567,\n",
       " True: 456}"
      ]
     },
     "execution_count": 32,
     "metadata": {},
     "output_type": "execute_result"
    }
   ],
   "source": [
    "x2"
   ]
  },
  {
   "cell_type": "code",
   "execution_count": 34,
   "id": "47773323",
   "metadata": {},
   "outputs": [
    {
     "data": {
      "text/plain": [
       "67"
      ]
     },
     "execution_count": 34,
     "metadata": {},
     "output_type": "execute_result"
    }
   ],
   "source": [
    "x2['name']['k2'][1]"
   ]
  },
  {
   "cell_type": "code",
   "execution_count": 35,
   "id": "eb4226c2",
   "metadata": {},
   "outputs": [
    {
     "data": {
      "text/plain": [
       "{'l1': 4567, 'name': 'roshni', 'age': 33}"
      ]
     },
     "execution_count": 35,
     "metadata": {},
     "output_type": "execute_result"
    }
   ],
   "source": [
    "x3={\"l1\":4567,\"name\":\"roshni\",\"age\":33}\n",
    "x3"
   ]
  },
  {
   "cell_type": "code",
   "execution_count": 36,
   "id": "985e73c7",
   "metadata": {},
   "outputs": [],
   "source": [
    "#we can replace values"
   ]
  },
  {
   "cell_type": "code",
   "execution_count": 37,
   "id": "76cdf3ec",
   "metadata": {},
   "outputs": [
    {
     "data": {
      "text/plain": [
       "{'l1': 4567, 'name': 'Urvija', 'age': 33}"
      ]
     },
     "execution_count": 37,
     "metadata": {},
     "output_type": "execute_result"
    }
   ],
   "source": [
    "x3[\"name\"]=\"Urvija\"\n",
    "x3"
   ]
  },
  {
   "cell_type": "code",
   "execution_count": 39,
   "id": "52d451e9",
   "metadata": {},
   "outputs": [
    {
     "data": {
      "text/plain": [
       "dict_keys(['l1', 'name', 'age'])"
      ]
     },
     "execution_count": 39,
     "metadata": {},
     "output_type": "execute_result"
    }
   ],
   "source": [
    "x3.keys()"
   ]
  },
  {
   "cell_type": "code",
   "execution_count": 40,
   "id": "370aa370",
   "metadata": {},
   "outputs": [
    {
     "name": "stdout",
     "output_type": "stream",
     "text": [
      "l1\n",
      "name\n",
      "age\n"
     ]
    }
   ],
   "source": [
    "for i in x3:\n",
    "    print(i)"
   ]
  },
  {
   "cell_type": "code",
   "execution_count": 42,
   "id": "aa2d4400",
   "metadata": {},
   "outputs": [
    {
     "name": "stdout",
     "output_type": "stream",
     "text": [
      "4567\n",
      "Urvija\n",
      "33\n"
     ]
    }
   ],
   "source": [
    "for i in x3.keys():\n",
    "    print(x3[i])"
   ]
  },
  {
   "cell_type": "code",
   "execution_count": 43,
   "id": "42d6ee9e",
   "metadata": {},
   "outputs": [
    {
     "data": {
      "text/plain": [
       "{'name': {'k1': 45, 'k2': [45, 67, 89]},\n",
       " 'age': 33,\n",
       " 'l_name': 'urvija',\n",
       " 34: 4567,\n",
       " True: 456}"
      ]
     },
     "execution_count": 43,
     "metadata": {},
     "output_type": "execute_result"
    }
   ],
   "source": [
    "x2"
   ]
  },
  {
   "cell_type": "code",
   "execution_count": 44,
   "id": "0adc67fb",
   "metadata": {},
   "outputs": [
    {
     "name": "stdout",
     "output_type": "stream",
     "text": [
      "{'k1': 45, 'k2': [45, 67, 89]}\n",
      "33\n",
      "urvija\n",
      "4567\n",
      "456\n"
     ]
    }
   ],
   "source": [
    "for i in x2.keys():\n",
    "    print(x2[i])"
   ]
  },
  {
   "cell_type": "code",
   "execution_count": 47,
   "id": "cc4ee32e",
   "metadata": {},
   "outputs": [
    {
     "name": "stdout",
     "output_type": "stream",
     "text": [
      "<class 'dict'>\n",
      "<class 'int'>\n",
      "<class 'str'>\n",
      "<class 'int'>\n",
      "<class 'int'>\n"
     ]
    }
   ],
   "source": [
    "for i in x2.keys():\n",
    "    print(type(x2[i]))"
   ]
  },
  {
   "cell_type": "code",
   "execution_count": 48,
   "id": "2e113935",
   "metadata": {},
   "outputs": [
    {
     "data": {
      "text/plain": [
       "dict_items([('name', {'k1': 45, 'k2': [45, 67, 89]}), ('age', 33), ('l_name', 'urvija'), (34, 4567), (True, 456)])"
      ]
     },
     "execution_count": 48,
     "metadata": {},
     "output_type": "execute_result"
    }
   ],
   "source": [
    "x2.items()"
   ]
  },
  {
   "cell_type": "code",
   "execution_count": 49,
   "id": "7c538baa",
   "metadata": {},
   "outputs": [],
   "source": [
    "# how to extract all the keys"
   ]
  },
  {
   "cell_type": "code",
   "execution_count": 50,
   "id": "6d9f005a",
   "metadata": {},
   "outputs": [
    {
     "name": "stdout",
     "output_type": "stream",
     "text": [
      "name\n",
      "age\n",
      "l_name\n",
      "34\n",
      "True\n"
     ]
    }
   ],
   "source": [
    "for i in x2.items():\n",
    "    print(i[0])"
   ]
  },
  {
   "cell_type": "code",
   "execution_count": 51,
   "id": "3918ef50",
   "metadata": {},
   "outputs": [],
   "source": [
    "# how to extract all the values"
   ]
  },
  {
   "cell_type": "code",
   "execution_count": 52,
   "id": "d8acf2ca",
   "metadata": {},
   "outputs": [
    {
     "name": "stdout",
     "output_type": "stream",
     "text": [
      "{'k1': 45, 'k2': [45, 67, 89]}\n",
      "33\n",
      "urvija\n",
      "4567\n",
      "456\n"
     ]
    }
   ],
   "source": [
    "for i in x2.items():\n",
    "    print(i[1])"
   ]
  },
  {
   "cell_type": "code",
   "execution_count": 3,
   "id": "fdb1d1a9",
   "metadata": {},
   "outputs": [],
   "source": [
    "x4={(4,5,6,7):\"rtyuiik\"}"
   ]
  },
  {
   "cell_type": "code",
   "execution_count": 4,
   "id": "118490d1",
   "metadata": {},
   "outputs": [
    {
     "data": {
      "text/plain": [
       "'rtyuiik'"
      ]
     },
     "execution_count": 4,
     "metadata": {},
     "output_type": "execute_result"
    }
   ],
   "source": [
    "x4[(4,5,6,7)]"
   ]
  },
  {
   "cell_type": "code",
   "execution_count": 5,
   "id": "d0f8d56c",
   "metadata": {},
   "outputs": [
    {
     "data": {
      "text/plain": [
       "1"
      ]
     },
     "execution_count": 5,
     "metadata": {},
     "output_type": "execute_result"
    }
   ],
   "source": [
    "len(x4)"
   ]
  },
  {
   "cell_type": "code",
   "execution_count": 6,
   "id": "592d5d2a",
   "metadata": {},
   "outputs": [],
   "source": [
    "e = {56:{45,67,78}}"
   ]
  },
  {
   "cell_type": "code",
   "execution_count": 11,
   "id": "898b5b3f",
   "metadata": {},
   "outputs": [
    {
     "data": {
      "text/plain": [
       "{45, 67, 78}"
      ]
     },
     "execution_count": 11,
     "metadata": {},
     "output_type": "execute_result"
    }
   ],
   "source": [
    "# how to extract 45\n",
    "e[56]"
   ]
  },
  {
   "cell_type": "code",
   "execution_count": 9,
   "id": "54829ea5",
   "metadata": {},
   "outputs": [
    {
     "data": {
      "text/plain": [
       "67"
      ]
     },
     "execution_count": 9,
     "metadata": {},
     "output_type": "execute_result"
    }
   ],
   "source": [
    "list(e[56])[0]"
   ]
  },
  {
   "cell_type": "code",
   "execution_count": 13,
   "id": "18ef6aab",
   "metadata": {},
   "outputs": [
    {
     "name": "stdout",
     "output_type": "stream",
     "text": [
      "paragraphi want to become a full stack data scientist\n"
     ]
    }
   ],
   "source": [
    "i = input(\"paragraph\")\n"
   ]
  },
  {
   "cell_type": "code",
   "execution_count": 1,
   "id": "cf05c746",
   "metadata": {},
   "outputs": [],
   "source": [
    "#Q.0 take input as a paragraph by using input function"
   ]
  },
  {
   "cell_type": "code",
   "execution_count": 2,
   "id": "0b1eb087",
   "metadata": {},
   "outputs": [],
   "source": [
    "#Q.1 convert all of input in to list"
   ]
  },
  {
   "cell_type": "code",
   "execution_count": 3,
   "id": "ca0147a0",
   "metadata": {},
   "outputs": [],
   "source": [
    "# Q.2 Remove all the duplicate elements from list"
   ]
  },
  {
   "cell_type": "code",
   "execution_count": 4,
   "id": "cfc6f402",
   "metadata": {},
   "outputs": [],
   "source": [
    "# Q.3 Use all distinct element as a key for dictionary and assign your name as a values \n",
    "#all the key for dictionary"
   ]
  },
  {
   "cell_type": "code",
   "execution_count": 5,
   "id": "79f2ae30",
   "metadata": {},
   "outputs": [],
   "source": [
    "# Q.4 try to print tuple of all the values"
   ]
  },
  {
   "cell_type": "code",
   "execution_count": 6,
   "id": "210869fb",
   "metadata": {},
   "outputs": [],
   "source": [
    "# Q.5 try to print list of all the keys"
   ]
  },
  {
   "cell_type": "code",
   "execution_count": 7,
   "id": "892e8dee",
   "metadata": {},
   "outputs": [],
   "source": [
    "# Q.0   "
   ]
  },
  {
   "cell_type": "code",
   "execution_count": 9,
   "id": "3bc8c696",
   "metadata": {},
   "outputs": [
    {
     "name": "stdout",
     "output_type": "stream",
     "text": [
      "enter the paragraph I want to become full stack data scientist,i study in iNeoron\n"
     ]
    }
   ],
   "source": [
    "paragraph = input(\"enter the paragraph\")"
   ]
  },
  {
   "cell_type": "code",
   "execution_count": null,
   "id": "9b82ef53",
   "metadata": {},
   "outputs": [],
   "source": [
    "Q.1"
   ]
  },
  {
   "cell_type": "code",
   "execution_count": 10,
   "id": "a2d665be",
   "metadata": {},
   "outputs": [
    {
     "data": {
      "text/plain": [
       "' I want to become full stack data scientist,i study in iNeoron'"
      ]
     },
     "execution_count": 10,
     "metadata": {},
     "output_type": "execute_result"
    }
   ],
   "source": [
    "paragraph"
   ]
  },
  {
   "cell_type": "code",
   "execution_count": 13,
   "id": "f85755c9",
   "metadata": {},
   "outputs": [],
   "source": [
    "list1 = paragraph.split(\" \")"
   ]
  },
  {
   "cell_type": "code",
   "execution_count": 14,
   "id": "134c4f73",
   "metadata": {},
   "outputs": [
    {
     "data": {
      "text/plain": [
       "['',\n",
       " 'I',\n",
       " 'want',\n",
       " 'to',\n",
       " 'become',\n",
       " 'full',\n",
       " 'stack',\n",
       " 'data',\n",
       " 'scientist,i',\n",
       " 'study',\n",
       " 'in',\n",
       " 'iNeoron']"
      ]
     },
     "execution_count": 14,
     "metadata": {},
     "output_type": "execute_result"
    }
   ],
   "source": [
    "list1"
   ]
  },
  {
   "cell_type": "code",
   "execution_count": 15,
   "id": "ea39145f",
   "metadata": {},
   "outputs": [],
   "source": [
    "# Q.2"
   ]
  },
  {
   "cell_type": "code",
   "execution_count": 16,
   "id": "d444602c",
   "metadata": {},
   "outputs": [
    {
     "data": {
      "text/plain": [
       "{'',\n",
       " 'I',\n",
       " 'become',\n",
       " 'data',\n",
       " 'full',\n",
       " 'iNeoron',\n",
       " 'in',\n",
       " 'scientist,i',\n",
       " 'stack',\n",
       " 'study',\n",
       " 'to',\n",
       " 'want'}"
      ]
     },
     "execution_count": 16,
     "metadata": {},
     "output_type": "execute_result"
    }
   ],
   "source": [
    "s1 = set(list1)\n",
    "s1"
   ]
  },
  {
   "cell_type": "code",
   "execution_count": 17,
   "id": "96396a00",
   "metadata": {},
   "outputs": [],
   "source": [
    "# Q.3"
   ]
  },
  {
   "cell_type": "code",
   "execution_count": 19,
   "id": "ad4d9ca1",
   "metadata": {},
   "outputs": [
    {
     "data": {
      "text/plain": [
       "{'': 'Roshni',\n",
       " 'I': 'Roshni',\n",
       " 'to': 'Roshni',\n",
       " 'stack': 'Roshni',\n",
       " 'study': 'Roshni',\n",
       " 'data': 'Roshni',\n",
       " 'in': 'Roshni',\n",
       " 'become': 'Roshni',\n",
       " 'iNeoron': 'Roshni',\n",
       " 'full': 'Roshni',\n",
       " 'want': 'Roshni',\n",
       " 'scientist,i': 'Roshni'}"
      ]
     },
     "execution_count": 19,
     "metadata": {},
     "output_type": "execute_result"
    }
   ],
   "source": [
    "dict1 = dict.fromkeys(s1,'Roshni')\n",
    "dict1"
   ]
  },
  {
   "cell_type": "code",
   "execution_count": 20,
   "id": "da16b69b",
   "metadata": {},
   "outputs": [],
   "source": [
    "#Q.4"
   ]
  },
  {
   "cell_type": "code",
   "execution_count": 21,
   "id": "8eaae9ff",
   "metadata": {},
   "outputs": [
    {
     "data": {
      "text/plain": [
       "('Roshni',\n",
       " 'Roshni',\n",
       " 'Roshni',\n",
       " 'Roshni',\n",
       " 'Roshni',\n",
       " 'Roshni',\n",
       " 'Roshni',\n",
       " 'Roshni',\n",
       " 'Roshni',\n",
       " 'Roshni',\n",
       " 'Roshni',\n",
       " 'Roshni')"
      ]
     },
     "execution_count": 21,
     "metadata": {},
     "output_type": "execute_result"
    }
   ],
   "source": [
    "t1 = tuple(dict1.values())\n",
    "t1"
   ]
  },
  {
   "cell_type": "code",
   "execution_count": 22,
   "id": "3a3a13d8",
   "metadata": {},
   "outputs": [],
   "source": [
    "#Q.5 "
   ]
  },
  {
   "cell_type": "code",
   "execution_count": 23,
   "id": "35d04db5",
   "metadata": {},
   "outputs": [
    {
     "data": {
      "text/plain": [
       "['',\n",
       " 'I',\n",
       " 'to',\n",
       " 'stack',\n",
       " 'study',\n",
       " 'data',\n",
       " 'in',\n",
       " 'become',\n",
       " 'iNeoron',\n",
       " 'full',\n",
       " 'want',\n",
       " 'scientist,i']"
      ]
     },
     "execution_count": 23,
     "metadata": {},
     "output_type": "execute_result"
    }
   ],
   "source": [
    "l1 = list(dict1.keys())\n",
    "l1"
   ]
  },
  {
   "cell_type": "code",
   "execution_count": 34,
   "id": "e267df22",
   "metadata": {},
   "outputs": [
    {
     "data": {
      "text/plain": [
       "{'company': 'iNeoron', 'course': 'full stack data science', 'year': 2021}"
      ]
     },
     "execution_count": 34,
     "metadata": {},
     "output_type": "execute_result"
    }
   ],
   "source": [
    "d = {\"company\":\"iNeoron\",\"course\":\"full stack data science\",\"year\":2021}\n",
    "d"
   ]
  },
  {
   "cell_type": "code",
   "execution_count": 35,
   "id": "45b98770",
   "metadata": {},
   "outputs": [
    {
     "name": "stdout",
     "output_type": "stream",
     "text": [
      "print a key :  company ; value wise :  iNeoron\n",
      "print a key :  course ; value wise :  full stack data science\n",
      "print a key :  year ; value wise :  2021\n"
     ]
    }
   ],
   "source": [
    "for i in d:\n",
    "    print(\"print a key : \", i ,  \";\",   \"value wise : \" , d[i])"
   ]
  },
  {
   "cell_type": "code",
   "execution_count": 36,
   "id": "589d4f80",
   "metadata": {},
   "outputs": [
    {
     "data": {
      "text/plain": [
       "True"
      ]
     },
     "execution_count": 36,
     "metadata": {},
     "output_type": "execute_result"
    }
   ],
   "source": [
    "'course' in d"
   ]
  },
  {
   "cell_type": "code",
   "execution_count": 38,
   "id": "58b96b02",
   "metadata": {},
   "outputs": [
    {
     "name": "stdout",
     "output_type": "stream",
     "text": [
      "year is fine\n"
     ]
    }
   ],
   "source": [
    "for i in d :\n",
    "    \n",
    "    if i==\"year\":\n",
    "        \n",
    "        if d[i]>2021:\n",
    "            \n",
    "            print(\"year is fine\")\n",
    "            \n",
    "        else:\n",
    "            \n",
    "            d[i]=2022"
   ]
  },
  {
   "cell_type": "code",
   "execution_count": 39,
   "id": "136b12ff",
   "metadata": {},
   "outputs": [
    {
     "data": {
      "text/plain": [
       "{'company': 'iNeoron', 'course': 'full stack data science', 'year': 2022}"
      ]
     },
     "execution_count": 39,
     "metadata": {},
     "output_type": "execute_result"
    }
   ],
   "source": [
    "d"
   ]
  },
  {
   "cell_type": "code",
   "execution_count": 40,
   "id": "d233cfce",
   "metadata": {},
   "outputs": [],
   "source": [
    "my_dict = {}\n",
    "for i in range(10):\n",
    "    my_dict[i]=i*i"
   ]
  },
  {
   "cell_type": "code",
   "execution_count": 41,
   "id": "ab24037c",
   "metadata": {},
   "outputs": [
    {
     "data": {
      "text/plain": [
       "{0: 0, 1: 1, 2: 4, 3: 9, 4: 16, 5: 25, 6: 36, 7: 49, 8: 64, 9: 81}"
      ]
     },
     "execution_count": 41,
     "metadata": {},
     "output_type": "execute_result"
    }
   ],
   "source": [
    "my_dict"
   ]
  },
  {
   "cell_type": "code",
   "execution_count": 42,
   "id": "21c2d882",
   "metadata": {},
   "outputs": [],
   "source": [
    "#dictionary comprehention"
   ]
  },
  {
   "cell_type": "code",
   "execution_count": 45,
   "id": "84553fa1",
   "metadata": {},
   "outputs": [
    {
     "data": {
      "text/plain": [
       "{0: 0, 1: 1, 2: 4, 3: 9, 4: 16, 5: 25, 6: 36, 7: 49, 8: 64, 9: 81}"
      ]
     },
     "execution_count": 45,
     "metadata": {},
     "output_type": "execute_result"
    }
   ],
   "source": [
    "{i : i*i for i in range(10)}"
   ]
  },
  {
   "cell_type": "code",
   "execution_count": 47,
   "id": "f9b253be",
   "metadata": {},
   "outputs": [
    {
     "data": {
      "text/plain": [
       "{0: 0, 3: 9, 6: 36, 9: 81}"
      ]
     },
     "execution_count": 47,
     "metadata": {},
     "output_type": "execute_result"
    }
   ],
   "source": [
    "{i : i*i for i in range(0,10,3)}"
   ]
  },
  {
   "cell_type": "code",
   "execution_count": null,
   "id": "f3c11712",
   "metadata": {},
   "outputs": [],
   "source": []
  }
 ],
 "metadata": {
  "kernelspec": {
   "display_name": "Python 3",
   "language": "python",
   "name": "python3"
  },
  "language_info": {
   "codemirror_mode": {
    "name": "ipython",
    "version": 3
   },
   "file_extension": ".py",
   "mimetype": "text/x-python",
   "name": "python",
   "nbconvert_exporter": "python",
   "pygments_lexer": "ipython3",
   "version": "3.8.8"
  }
 },
 "nbformat": 4,
 "nbformat_minor": 5
}
