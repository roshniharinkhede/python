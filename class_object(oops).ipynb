{
  "nbformat": 4,
  "nbformat_minor": 0,
  "metadata": {
    "colab": {
      "name": "class_object(oops).ipynb",
      "provenance": [],
      "collapsed_sections": [],
      "authorship_tag": "ABX9TyM6JuKF75mD73REjtXHSNu/",
      "include_colab_link": true
    },
    "kernelspec": {
      "name": "python3",
      "display_name": "Python 3"
    },
    "language_info": {
      "name": "python"
    }
  },
  "cells": [
    {
      "cell_type": "markdown",
      "metadata": {
        "id": "view-in-github",
        "colab_type": "text"
      },
      "source": [
        "<a href=\"https://colab.research.google.com/github/roshniharinkhede/python/blob/main/class_object(oops).ipynb\" target=\"_parent\"><img src=\"https://colab.research.google.com/assets/colab-badge.svg\" alt=\"Open In Colab\"/></a>"
      ]
    },
    {
      "cell_type": "code",
      "execution_count": null,
      "metadata": {
        "id": "aZOg4AV46ZVW"
      },
      "outputs": [],
      "source": [
        "class car:\n",
        "  pass"
      ]
    },
    {
      "cell_type": "code",
      "source": [
        "audiq7 = car()"
      ],
      "metadata": {
        "id": "DO4aTlui7Gim"
      },
      "execution_count": null,
      "outputs": []
    },
    {
      "cell_type": "code",
      "source": [
        "audiq7.milage = 10\n",
        "audiq7.year = 2020\n",
        "audiq7.make = 345\n",
        "audiq7.model = \"dffg\""
      ],
      "metadata": {
        "id": "YRJ4hnrP7ipu"
      },
      "execution_count": null,
      "outputs": []
    },
    {
      "cell_type": "code",
      "source": [
        "audiq7.make"
      ],
      "metadata": {
        "colab": {
          "base_uri": "https://localhost:8080/"
        },
        "id": "wZTUl8uo8qXU",
        "outputId": "06333055-328d-449c-dd99-af3190f746a6"
      },
      "execution_count": null,
      "outputs": [
        {
          "output_type": "execute_result",
          "data": {
            "text/plain": [
              "345"
            ]
          },
          "metadata": {},
          "execution_count": 5
        }
      ]
    },
    {
      "cell_type": "code",
      "source": [
        "audiq7.milage"
      ],
      "metadata": {
        "colab": {
          "base_uri": "https://localhost:8080/"
        },
        "id": "By78BJuI79KA",
        "outputId": "5e834c87-473f-4171-cb98-a675f3328d9f"
      },
      "execution_count": null,
      "outputs": [
        {
          "output_type": "execute_result",
          "data": {
            "text/plain": [
              "10"
            ]
          },
          "metadata": {},
          "execution_count": 6
        }
      ]
    },
    {
      "cell_type": "code",
      "source": [
        "audiq7.year "
      ],
      "metadata": {
        "colab": {
          "base_uri": "https://localhost:8080/"
        },
        "id": "9efrxNw08jyB",
        "outputId": "5096c8fa-f184-4b42-cbf1-597ee63328c8"
      },
      "execution_count": null,
      "outputs": [
        {
          "output_type": "execute_result",
          "data": {
            "text/plain": [
              "2020"
            ]
          },
          "metadata": {},
          "execution_count": 7
        }
      ]
    },
    {
      "cell_type": "code",
      "source": [
        "audiq7.model"
      ],
      "metadata": {
        "colab": {
          "base_uri": "https://localhost:8080/",
          "height": 35
        },
        "id": "FQk646Wk8t8E",
        "outputId": "a3de6ebb-08ba-4bab-81e4-8e92365b7e3b"
      },
      "execution_count": null,
      "outputs": [
        {
          "output_type": "execute_result",
          "data": {
            "text/plain": [
              "'dffg'"
            ],
            "application/vnd.google.colaboratory.intrinsic+json": {
              "type": "string"
            }
          },
          "metadata": {},
          "execution_count": 8
        }
      ]
    },
    {
      "cell_type": "code",
      "source": [
        "bmw = car()"
      ],
      "metadata": {
        "id": "d2MzH-2B9mgO"
      },
      "execution_count": null,
      "outputs": []
    },
    {
      "cell_type": "code",
      "source": [
        "bmw.milage = 8\n",
        "bmw.year = 2019\n",
        "bmw.make = 3458\n",
        "bmw.model = \"bmwert\"\n",
        "bmw.engineno = 456678899"
      ],
      "metadata": {
        "id": "8pfUKhNC8yx3"
      },
      "execution_count": null,
      "outputs": []
    },
    {
      "cell_type": "code",
      "source": [
        "print(audiq7.milage,bmw.milage)"
      ],
      "metadata": {
        "colab": {
          "base_uri": "https://localhost:8080/"
        },
        "id": "Rn7Ce2gm9elv",
        "outputId": "299428b9-8726-4dd2-db39-bba76524ca35"
      },
      "execution_count": null,
      "outputs": [
        {
          "output_type": "stream",
          "name": "stdout",
          "text": [
            "10 8\n"
          ]
        }
      ]
    },
    {
      "cell_type": "code",
      "source": [
        "class car:\n",
        "  def __init__(self , milage , year , make ,model ):\n",
        "    self.milage = milage\n",
        "    self.year = year\n",
        "    self.make = make\n",
        "    self.model = model"
      ],
      "metadata": {
        "id": "dsuxjhR195_z"
      },
      "execution_count": null,
      "outputs": []
    },
    {
      "cell_type": "code",
      "source": [
        "bmw1 = car( 10, 2019, 456, \"fghhjj\")\n",
        "audiq71 = car(8,2020,567,\"fgghhh\")\n",
        "bmw2 = car(9,2018,234,\"gghhh\")\n",
        "audiq72 = car(11,2016,445,\"assd\")\n",
        "audiq73 = car(12,2021,342,\"dfgfgh\")\n",
        "bmw3 = car(12,2022,455,\"assddffg\")\n"
      ],
      "metadata": {
        "id": "-zWXTc1z_GG0"
      },
      "execution_count": null,
      "outputs": []
    },
    {
      "cell_type": "code",
      "source": [
        "print(bmw3.milage,audiq72.model)"
      ],
      "metadata": {
        "colab": {
          "base_uri": "https://localhost:8080/"
        },
        "id": "f0a5rgB7AAyl",
        "outputId": "0f3e61ea-6aef-4e1e-d17b-a7dbe6e00756"
      },
      "execution_count": null,
      "outputs": [
        {
          "output_type": "stream",
          "name": "stdout",
          "text": [
            "12 assd\n"
          ]
        }
      ]
    },
    {
      "cell_type": "code",
      "source": [
        "class car :\n",
        "  def __init__(a,mi,y,ma,mo):\n",
        "    a.milage = mi\n",
        "    a.year = y\n",
        "    a.make = ma\n",
        "    a.model = mo\n",
        "\n",
        "  def age(b,current_year):\n",
        "      return current_year-b.year\n",
        "\n",
        "  def milage(self):\n",
        "        print(\"prini the milage of car\",self.milage)\n",
        "\n",
        "  def __str__(c):\n",
        "    return \"this is my car class i have created\"\n",
        "         \n",
        "   \n",
        "      \n",
        "        \n",
        "  \n",
        "\n",
        " \n",
        "  "
      ],
      "metadata": {
        "id": "PP6WMuq8D6RJ"
      },
      "execution_count": null,
      "outputs": []
    },
    {
      "cell_type": "code",
      "source": [
        "bmw2 = car(9,2018,234,\"gghhh\")"
      ],
      "metadata": {
        "id": "SGUzNa5BLeSM"
      },
      "execution_count": null,
      "outputs": []
    },
    {
      "cell_type": "code",
      "source": [
        "bmw2.milage"
      ],
      "metadata": {
        "colab": {
          "base_uri": "https://localhost:8080/"
        },
        "id": "WMbbn9jgE8VZ",
        "outputId": "e33e9e08-501a-482e-ba47-e016390e8e8d"
      },
      "execution_count": null,
      "outputs": [
        {
          "output_type": "execute_result",
          "data": {
            "text/plain": [
              "9"
            ]
          },
          "metadata": {},
          "execution_count": 17
        }
      ]
    },
    {
      "cell_type": "code",
      "source": [
        "bmw2.age(2022)"
      ],
      "metadata": {
        "colab": {
          "base_uri": "https://localhost:8080/"
        },
        "id": "TlrmfVWwLCIo",
        "outputId": "b780c1a1-6bc6-4b68-847c-a6a47ee07081"
      },
      "execution_count": null,
      "outputs": [
        {
          "output_type": "execute_result",
          "data": {
            "text/plain": [
              "4"
            ]
          },
          "metadata": {},
          "execution_count": 18
        }
      ]
    },
    {
      "cell_type": "code",
      "source": [
        "print(bmw2)"
      ],
      "metadata": {
        "colab": {
          "base_uri": "https://localhost:8080/"
        },
        "id": "OGyJl6PoLPSj",
        "outputId": "51048de3-52e7-4186-af89-949333a0f803"
      },
      "execution_count": null,
      "outputs": [
        {
          "output_type": "stream",
          "name": "stdout",
          "text": [
            "this is my car class i have created\n"
          ]
        }
      ]
    },
    {
      "cell_type": "code",
      "source": [
        "class student :\n",
        "\n",
        "  def __init__(self, name , rollno , joining_date , current_topic):\n",
        "    self.name = name\n",
        "    self.rollno = rollno\n",
        "    self.joining_date = joining_date\n",
        "    self.corrent_topic = current_topic\n",
        "\n",
        "  def name_parsing(self):\n",
        "\n",
        "      if type(self.name)==list:\n",
        "        for i in self.name:\n",
        "          print(\"Name of the student\",i)\n",
        "      else:\n",
        "        print(\"provided name is not in the list\")\n",
        "\n",
        "  def cur_topic(self):\n",
        "       print(\"the current topic is\",self.corrent_topic)\n",
        "\n",
        "  def str_rollno(self):\n",
        "\n",
        "\n",
        "     try :\n",
        "\n",
        "       if type(self.rollno)== str:\n",
        "         print(\"do nothing\")\n",
        "       else:\n",
        "          return str(self.rollno) \n",
        "     except Exception as e :\n",
        "\n",
        "       print(\"this is my error msg\",e)\n",
        "\n",
        "  def duration(self,current_date):\n",
        "     print(\"my students duration is\",current_date-self.joining_date)\n",
        "\n",
        "  def __str__(self) :\n",
        "     return \"this is student class where they can input own data or fetch it\"\n",
        "       \n",
        "\n",
        "\n",
        "\n",
        "\n",
        "       \n",
        "\n",
        "\n",
        "\n",
        "\n",
        "\n"
      ],
      "metadata": {
        "id": "FvjsHyxMMzjA"
      },
      "execution_count": null,
      "outputs": []
    },
    {
      "cell_type": "code",
      "source": [
        "srini = student(\"srini\" ,5677, 2021,\"oops\")\n",
        "print(srini)"
      ],
      "metadata": {
        "colab": {
          "base_uri": "https://localhost:8080/"
        },
        "id": "LeLeu3iGz6xC",
        "outputId": "292c2332-0b54-4eb6-c118-aefd67ef3a19"
      },
      "execution_count": null,
      "outputs": [
        {
          "output_type": "stream",
          "name": "stdout",
          "text": [
            "this is student class where they can input own data or fetch it\n"
          ]
        }
      ]
    },
    {
      "cell_type": "code",
      "source": [
        "srini.duration(2021)"
      ],
      "metadata": {
        "id": "2RVd-jmMz_yX",
        "colab": {
          "base_uri": "https://localhost:8080/"
        },
        "outputId": "915a01d5-f89b-46df-f2cb-a602d86b26a0"
      },
      "execution_count": null,
      "outputs": [
        {
          "output_type": "stream",
          "name": "stdout",
          "text": [
            "my students duration is 0\n"
          ]
        }
      ]
    },
    {
      "cell_type": "code",
      "source": [
        "srini.str_rollno()"
      ],
      "metadata": {
        "colab": {
          "base_uri": "https://localhost:8080/",
          "height": 35
        },
        "id": "i8TODnUoFLpT",
        "outputId": "03a21f1f-122e-45d6-8cc9-9d8ce274aa80"
      },
      "execution_count": null,
      "outputs": [
        {
          "output_type": "execute_result",
          "data": {
            "text/plain": [
              "'5677'"
            ],
            "application/vnd.google.colaboratory.intrinsic+json": {
              "type": "string"
            }
          },
          "metadata": {},
          "execution_count": 23
        }
      ]
    },
    {
      "cell_type": "code",
      "source": [
        "print(srini)"
      ],
      "metadata": {
        "colab": {
          "base_uri": "https://localhost:8080/"
        },
        "id": "Q76UwNU9Fk91",
        "outputId": "ef438465-ea79-4f3e-9e20-c0ac470413fd"
      },
      "execution_count": null,
      "outputs": [
        {
          "output_type": "stream",
          "name": "stdout",
          "text": [
            "this is student class where they can input own data or fetch it\n"
          ]
        }
      ]
    },
    {
      "cell_type": "code",
      "source": [
        "all_student = student(['naveen','rosh','rakesh','dolly'],[45,56,46,23],[2021,2022,2000,1999],['oops','datas','java','c'])"
      ],
      "metadata": {
        "id": "GHMo-zukFseG"
      },
      "execution_count": null,
      "outputs": []
    },
    {
      "cell_type": "code",
      "source": [
        "all_student.name_parsing()"
      ],
      "metadata": {
        "colab": {
          "base_uri": "https://localhost:8080/"
        },
        "id": "73Ri2UzRHi94",
        "outputId": "e19bc722-00e2-41e5-ca68-41427e01617d"
      },
      "execution_count": null,
      "outputs": [
        {
          "output_type": "stream",
          "name": "stdout",
          "text": [
            "Name of the student naveen\n",
            "Name of the student rosh\n",
            "Name of the student rakesh\n",
            "Name of the student dolly\n"
          ]
        }
      ]
    },
    {
      "cell_type": "code",
      "source": [
        "#task"
      ],
      "metadata": {
        "id": "Jhw1S2vWIofh"
      },
      "execution_count": null,
      "outputs": []
    },
    {
      "cell_type": "code",
      "source": [
        "class data :\n",
        "  def __init__(self,file_name,file_type,date,size):\n",
        "    self.file_name = file_name\n",
        "    self.file_type = file_type\n",
        "    self.date = date\n",
        "    self.size = size\n",
        "\n",
        "  def file_open(self):\n",
        "    f = open(self.file_name,'w')\n",
        "    f.write(\"this is test file\")\n",
        "    f.close()\n",
        "\n",
        "  def file_read(self):\n",
        "    f = open(self.file_name,'r')\n",
        "    print(f.read())\n",
        "    f.close()\n",
        "\n",
        "  def file_append(self):\n",
        "    f = open(self.file_name,'w')\n",
        "    f.write(\"appending data to file\")\n",
        "    f.close()\n",
        "\n",
        "      "
      ],
      "metadata": {
        "id": "FfTf_TCjMP8v"
      },
      "execution_count": null,
      "outputs": []
    },
    {
      "cell_type": "code",
      "source": [
        "file1 = data('file1','txt',22-3-2022,'4mb')"
      ],
      "metadata": {
        "id": "EqqXZ2PnN3-L"
      },
      "execution_count": null,
      "outputs": []
    },
    {
      "cell_type": "code",
      "source": [
        "file1.file_open()"
      ],
      "metadata": {
        "id": "VKGtqI7iVuRj"
      },
      "execution_count": null,
      "outputs": []
    },
    {
      "cell_type": "code",
      "source": [
        "file1.file_read()"
      ],
      "metadata": {
        "colab": {
          "base_uri": "https://localhost:8080/"
        },
        "id": "6lQRRdVaWEfh",
        "outputId": "7764d22c-224b-43ec-cfc5-f441b8356a13"
      },
      "execution_count": null,
      "outputs": [
        {
          "output_type": "stream",
          "name": "stdout",
          "text": [
            "this is test file\n"
          ]
        }
      ]
    },
    {
      "cell_type": "code",
      "source": [
        "file1.file_append()"
      ],
      "metadata": {
        "id": "83z3vJEQWMXA"
      },
      "execution_count": null,
      "outputs": []
    },
    {
      "cell_type": "code",
      "source": [
        "#task 2"
      ],
      "metadata": {
        "id": "7akkmAD4WXgQ"
      },
      "execution_count": null,
      "outputs": []
    },
    {
      "cell_type": "code",
      "source": [
        "import logging as lg\n",
        "lg.basicConfig(filename='oops.log',level=lg.ERROR)\n",
        "\n",
        "class data:\n",
        "  def __init__(self,filename,filetype,data,size):\n",
        "    self.filename = filename\n",
        "    self.filename = filename\n",
        "    self.data = data\n",
        "    self.size = size\n",
        "\n",
        "  def file_open(self):\n",
        "\n",
        "    try:\n",
        "      with file_open(self.filename+self.filetype,'w') as f:\n",
        "        f.write(self.data)\n",
        "    except Exception as e:\n",
        "          self.logging(e)\n",
        "\n",
        "  def File_read(self):\n",
        "    try:\n",
        "      with open(self.fileName+self.fileType,'r') as f:\n",
        "        f.read()\n",
        "    except FileNotFoundError as e:\n",
        "      self.logging(e)\n",
        "    except Exception as e:\n",
        "      self.logging(e)\n",
        "\n",
        "  def  File_append(self, data):\n",
        "    try:\n",
        "      with open(self.fileName+self.fileType, 'a') as f:\n",
        "        f.write(data)\n",
        "    except FileNotFoundError as e:\n",
        "      self.logging(e)\n",
        "    except Exception as e:\n",
        "      self.logging(e)\n",
        "\n",
        "  def logging(self, log):\n",
        "    lg.error(log) \n",
        "         \n"
      ],
      "metadata": {
        "id": "mXdYFeqh2g3u"
      },
      "execution_count": null,
      "outputs": []
    },
    {
      "cell_type": "code",
      "source": [
        "d = data('d','.txt','hi',2)\n",
        "d.file_open()\n",
        "d.File_append('op')"
      ],
      "metadata": {
        "id": "YHGrvxxY35UL"
      },
      "execution_count": null,
      "outputs": []
    },
    {
      "cell_type": "code",
      "source": [
        "import logging as lg\n",
        "lg.basicConfig(filename='OOPS.log2', level=lg.ERROR)\n",
        "class Data:\n",
        "  def __init__(self, fileName, fileType, data, size):\n",
        "    self.fileName = fileName\n",
        "    self.fileType = fileType\n",
        "    self.data = data\n",
        "    self.size = size\n",
        "  \n",
        "  def File_open(self): \n",
        "    try:  \n",
        "      with open(self.fileName+self.fileType,'w') as f:\n",
        "        f.write(self.data)\n",
        "    except Exception as e:\n",
        "      self.logging(e)\n",
        "    \n",
        "  def File_read(self):\n",
        "    try:\n",
        "      with open(self.fileName+self.fileType,'r') as f:\n",
        "        f.read()\n",
        "    except FileNotFoundError as e:\n",
        "      self.logging(e)\n",
        "    except Exception as e:\n",
        "      self.logging(e)\n",
        "    \n",
        "  def  File_append(self, data):\n",
        "    try:\n",
        "      with open(self.fileName+self.fileType, 'a') as f:\n",
        "        f.write(data)\n",
        "    except FileNotFoundError as e:\n",
        "      self.logging(e)\n",
        "    except Exception as e:\n",
        "      self.logging(e)\n",
        "    \n",
        "    \n",
        "    \n",
        "  def logging(self, log):\n",
        "    lg.error(log) \n",
        "    \n",
        "    \n",
        "    "
      ],
      "metadata": {
        "id": "uaBsl1cq9fmN"
      },
      "execution_count": null,
      "outputs": []
    },
    {
      "cell_type": "code",
      "source": [
        "d = Data('d','.txt','hi',2)\n",
        "d.File_open()\n",
        "d.File_append('op')\n"
      ],
      "metadata": {
        "id": "296YBYdR-50-"
      },
      "execution_count": null,
      "outputs": []
    },
    {
      "cell_type": "code",
      "source": [
        "import os\n",
        "import logging as lg\n",
        "lg.basicConfig(filename='oopscon.log',level=lg.INFO)\n",
        "class data:\n",
        "    def __init__(self, filename, filetype, date, size):\n",
        "        self.filename = filename\n",
        "        self.filetype = filetype\n",
        "        self.date = date\n",
        "        self.size = size\n",
        "        \n",
        "    def File_open(self):\n",
        "        lst = os.listdir()\n",
        "        if self.filename is not os.listdir():\n",
        "            f = open(self.filename, 'w')\n",
        "            f.write(\"This is the file content\")\n",
        "            lg.info(\"Wrote the file\") \n",
        "            lg.info(self.filename) \n",
        "            f.close()\n",
        "        else:\n",
        "            print(\"file already exists\")\n",
        "    def File_read(self):\n",
        "        try:\n",
        "            f = open(self.filename, 'r')\n",
        "            for i in f:\n",
        "                print(i)\n",
        "            f.close()\n",
        "        except Exception as e:\n",
        "            print(\"file doesn't exist\", e)\n",
        "            \n",
        "    def File_append(self):\n",
        "        try:\n",
        "            f = open(self.filename, 'a')\n",
        "            f.write(\"Hello everyone\")\n",
        "            lg.info(\"appended to the file\") \n",
        "        except Exception as e:\n",
        "            print(\"file doesn't exist\", e) \n"
      ],
      "metadata": {
        "id": "oPU1lSfQ_HGC"
      },
      "execution_count": null,
      "outputs": []
    }
  ]
}