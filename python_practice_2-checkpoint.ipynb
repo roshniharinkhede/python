{
 "cells": [
  {
   "cell_type": "code",
   "execution_count": 1,
   "id": "5373da06",
   "metadata": {},
   "outputs": [],
   "source": [
    "l = [\"roshni\",33,3456789,[33,45,6j],67.8]"
   ]
  },
  {
   "cell_type": "code",
   "execution_count": 5,
   "id": "55ca185a",
   "metadata": {},
   "outputs": [],
   "source": [
    "#List"
   ]
  },
  {
   "cell_type": "code",
   "execution_count": 2,
   "id": "e2f735bc",
   "metadata": {},
   "outputs": [
    {
     "data": {
      "text/plain": [
       "['roshni', 33, 3456789, [33, 45, 6j], 67.8]"
      ]
     },
     "execution_count": 2,
     "metadata": {},
     "output_type": "execute_result"
    }
   ],
   "source": [
    "l"
   ]
  },
  {
   "cell_type": "code",
   "execution_count": 4,
   "id": "6c88f977",
   "metadata": {},
   "outputs": [
    {
     "data": {
      "text/plain": [
       "[]"
      ]
     },
     "execution_count": 4,
     "metadata": {},
     "output_type": "execute_result"
    }
   ],
   "source": [
    "l[8:3:1]"
   ]
  },
  {
   "cell_type": "code",
   "execution_count": 6,
   "id": "3cf37405",
   "metadata": {},
   "outputs": [
    {
     "data": {
      "text/plain": [
       "[67.8]"
      ]
     },
     "execution_count": 6,
     "metadata": {},
     "output_type": "execute_result"
    }
   ],
   "source": [
    "l[8:3:-1]"
   ]
  },
  {
   "cell_type": "code",
   "execution_count": 7,
   "id": "f9f735f8",
   "metadata": {},
   "outputs": [
    {
     "data": {
      "text/plain": [
       "[67.8, [33, 45, 6j], 3456789, 33]"
      ]
     },
     "execution_count": 7,
     "metadata": {},
     "output_type": "execute_result"
    }
   ],
   "source": [
    "l[8:0:-1]"
   ]
  },
  {
   "cell_type": "code",
   "execution_count": 8,
   "id": "0f09da65",
   "metadata": {},
   "outputs": [
    {
     "data": {
      "text/plain": [
       "[67.8, [33, 45, 6j], 3456789, 33, 'roshni']"
      ]
     },
     "execution_count": 8,
     "metadata": {},
     "output_type": "execute_result"
    }
   ],
   "source": [
    "l[8: :-1]"
   ]
  },
  {
   "cell_type": "code",
   "execution_count": 10,
   "id": "3a739eac",
   "metadata": {},
   "outputs": [
    {
     "name": "stdout",
     "output_type": "stream",
     "text": [
      "4\n",
      "5\n",
      "6\n",
      "7\n",
      "8\n",
      "9\n",
      "10\n",
      "11\n",
      "12\n",
      "13\n",
      "14\n",
      "15\n",
      "16\n",
      "17\n",
      "18\n",
      "19\n"
     ]
    }
   ],
   "source": [
    "for i in range(4,20):\n",
    "    print(i)"
   ]
  },
  {
   "cell_type": "code",
   "execution_count": 11,
   "id": "d97db207",
   "metadata": {},
   "outputs": [
    {
     "data": {
      "text/plain": [
       "[0, 1, 2, 3, 4, 5, 6, 7, 8, 9, 10, 11, 12, 13, 14, 15, 16, 17, 18, 19]"
      ]
     },
     "execution_count": 11,
     "metadata": {},
     "output_type": "execute_result"
    }
   ],
   "source": [
    "list(range(20))"
   ]
  },
  {
   "cell_type": "code",
   "execution_count": 13,
   "id": "a60a967b",
   "metadata": {},
   "outputs": [
    {
     "data": {
      "text/plain": [
       "5"
      ]
     },
     "execution_count": 13,
     "metadata": {},
     "output_type": "execute_result"
    }
   ],
   "source": [
    "len(l)"
   ]
  },
  {
   "cell_type": "code",
   "execution_count": 14,
   "id": "a30bd583",
   "metadata": {},
   "outputs": [
    {
     "name": "stdout",
     "output_type": "stream",
     "text": [
      "r\n",
      "o\n",
      "s\n",
      "h\n",
      "n\n",
      "i\n"
     ]
    }
   ],
   "source": [
    "string = \"roshni\"\n",
    "for i in string:\n",
    "    print(i)"
   ]
  },
  {
   "cell_type": "code",
   "execution_count": 15,
   "id": "08065893",
   "metadata": {},
   "outputs": [
    {
     "name": "stdout",
     "output_type": "stream",
     "text": [
      "roshni"
     ]
    }
   ],
   "source": [
    "string = \"roshni\"\n",
    "for i in string:\n",
    "    print(i,end = \"\")"
   ]
  },
  {
   "cell_type": "code",
   "execution_count": 17,
   "id": "e31da907",
   "metadata": {},
   "outputs": [
    {
     "name": "stdout",
     "output_type": "stream",
     "text": [
      "**********"
     ]
    }
   ],
   "source": [
    "for i in range(10):\n",
    "    print(\"*\",end = \"\")"
   ]
  },
  {
   "cell_type": "code",
   "execution_count": 1,
   "id": "98ea99f5",
   "metadata": {},
   "outputs": [],
   "source": [
    "#string"
   ]
  },
  {
   "cell_type": "code",
   "execution_count": 2,
   "id": "b639422e",
   "metadata": {},
   "outputs": [],
   "source": [
    "s = \"this is full stack data science class\""
   ]
  },
  {
   "cell_type": "code",
   "execution_count": 3,
   "id": "64a83186",
   "metadata": {},
   "outputs": [
    {
     "data": {
      "text/plain": [
       "'this is full stack data science class'"
      ]
     },
     "execution_count": 3,
     "metadata": {},
     "output_type": "execute_result"
    }
   ],
   "source": [
    "s"
   ]
  },
  {
   "cell_type": "code",
   "execution_count": 4,
   "id": "080cf786",
   "metadata": {},
   "outputs": [
    {
     "data": {
      "text/plain": [
       "'this is full stack data s'"
      ]
     },
     "execution_count": 4,
     "metadata": {},
     "output_type": "execute_result"
    }
   ],
   "source": [
    "s[0:25]"
   ]
  },
  {
   "cell_type": "code",
   "execution_count": 5,
   "id": "9d787cae",
   "metadata": {},
   "outputs": [
    {
     "data": {
      "text/plain": [
       "37"
      ]
     },
     "execution_count": 5,
     "metadata": {},
     "output_type": "execute_result"
    }
   ],
   "source": [
    "len(s)"
   ]
  },
  {
   "cell_type": "code",
   "execution_count": 15,
   "id": "3e557ac4",
   "metadata": {},
   "outputs": [
    {
     "data": {
      "text/plain": [
       "'ssalc ecneics atad kcats lluf si siht'"
      ]
     },
     "execution_count": 15,
     "metadata": {},
     "output_type": "execute_result"
    }
   ],
   "source": [
    "s[-1:-38:-1]    #for reverse direction"
   ]
  },
  {
   "cell_type": "code",
   "execution_count": 13,
   "id": "6fa4d0a9",
   "metadata": {},
   "outputs": [
    {
     "data": {
      "text/plain": [
       "'s'"
      ]
     },
     "execution_count": 13,
     "metadata": {},
     "output_type": "execute_result"
    }
   ],
   "source": [
    "s[-1:]"
   ]
  },
  {
   "cell_type": "code",
   "execution_count": 16,
   "id": "a651d12b",
   "metadata": {},
   "outputs": [
    {
     "name": "stdout",
     "output_type": "stream",
     "text": [
      "t\n",
      "h\n",
      "i\n",
      "s\n",
      " \n",
      "i\n",
      "s\n",
      " \n",
      "f\n",
      "u\n",
      "l\n",
      "l\n",
      " \n",
      "s\n",
      "t\n",
      "a\n",
      "c\n",
      "k\n",
      " \n",
      "d\n",
      "a\n",
      "t\n",
      "a\n",
      " \n",
      "s\n",
      "c\n",
      "i\n",
      "e\n",
      "n\n",
      "c\n",
      "e\n",
      " \n",
      "c\n",
      "l\n",
      "a\n",
      "s\n",
      "s\n"
     ]
    }
   ],
   "source": [
    "for i in s:\n",
    "    print(i)"
   ]
  },
  {
   "cell_type": "code",
   "execution_count": 17,
   "id": "671fefd7",
   "metadata": {},
   "outputs": [
    {
     "name": "stdout",
     "output_type": "stream",
     "text": [
      "t\n",
      "h\n",
      "i\n",
      "s\n",
      " \n",
      "i\n",
      "s\n",
      " \n",
      "f\n",
      "u\n",
      "l\n",
      "l\n",
      " \n",
      "s\n",
      "t\n",
      "a\n",
      "c\n",
      "k\n",
      " \n",
      "d\n",
      "a\n",
      "t\n",
      "a\n",
      " \n",
      "s\n",
      "c\n",
      "i\n",
      "e\n",
      "n\n",
      "c\n",
      "e\n",
      " \n",
      "c\n",
      "l\n",
      "a\n",
      "s\n",
      "s\n"
     ]
    }
   ],
   "source": [
    "for i in range(len(s)):\n",
    "    print(s[i])"
   ]
  },
  {
   "cell_type": "code",
   "execution_count": 20,
   "id": "03312744",
   "metadata": {},
   "outputs": [
    {
     "data": {
      "text/plain": [
       "'ssalc ecneics atad kcats lluf si siht'"
      ]
     },
     "execution_count": 20,
     "metadata": {},
     "output_type": "execute_result"
    }
   ],
   "source": [
    "s[::-1]  # for reverse"
   ]
  },
  {
   "cell_type": "markdown",
   "id": "ac8b2e5a",
   "metadata": {},
   "source": [
    "string concatination"
   ]
  },
  {
   "cell_type": "code",
   "execution_count": 22,
   "id": "b6e28125",
   "metadata": {},
   "outputs": [
    {
     "data": {
      "text/plain": [
       "' Roshni  Harinkhede '"
      ]
     },
     "execution_count": 22,
     "metadata": {},
     "output_type": "execute_result"
    }
   ],
   "source": [
    "\" Roshni \" + \" Harinkhede \""
   ]
  },
  {
   "cell_type": "code",
   "execution_count": 23,
   "id": "8c510e59",
   "metadata": {},
   "outputs": [
    {
     "ename": "TypeError",
     "evalue": "can only concatenate str (not \"int\") to str",
     "output_type": "error",
     "traceback": [
      "\u001b[1;31m---------------------------------------------------------------------------\u001b[0m",
      "\u001b[1;31mTypeError\u001b[0m                                 Traceback (most recent call last)",
      "\u001b[1;32m<ipython-input-23-7e9f8dfc1cfc>\u001b[0m in \u001b[0;36m<module>\u001b[1;34m\u001b[0m\n\u001b[1;32m----> 1\u001b[1;33m \u001b[1;34m\"Roshni\"\u001b[0m \u001b[1;33m+\u001b[0m \u001b[1;36m3\u001b[0m\u001b[1;33m\u001b[0m\u001b[1;33m\u001b[0m\u001b[0m\n\u001b[0m",
      "\u001b[1;31mTypeError\u001b[0m: can only concatenate str (not \"int\") to str"
     ]
    }
   ],
   "source": [
    "\"Roshni\" + 3"
   ]
  },
  {
   "cell_type": "code",
   "execution_count": 24,
   "id": "d6175490",
   "metadata": {},
   "outputs": [
    {
     "data": {
      "text/plain": [
       "'Roshni3'"
      ]
     },
     "execution_count": 24,
     "metadata": {},
     "output_type": "execute_result"
    }
   ],
   "source": [
    "\"Roshni\" + \"3\""
   ]
  },
  {
   "cell_type": "code",
   "execution_count": 26,
   "id": "de01a399",
   "metadata": {},
   "outputs": [
    {
     "data": {
      "text/plain": [
       "' Roshni  Roshni  Roshni '"
      ]
     },
     "execution_count": 26,
     "metadata": {},
     "output_type": "execute_result"
    }
   ],
   "source": [
    "\" Roshni \" * 3"
   ]
  },
  {
   "cell_type": "code",
   "execution_count": 27,
   "id": "cc29a9a6",
   "metadata": {},
   "outputs": [
    {
     "data": {
      "text/plain": [
       "'Roshni3'"
      ]
     },
     "execution_count": 27,
     "metadata": {},
     "output_type": "execute_result"
    }
   ],
   "source": [
    "\"Roshni\" + str(3)"
   ]
  },
  {
   "cell_type": "code",
   "execution_count": 28,
   "id": "e2f203d4",
   "metadata": {},
   "outputs": [
    {
     "ename": "TypeError",
     "evalue": "can only concatenate str (not \"list\") to str",
     "output_type": "error",
     "traceback": [
      "\u001b[1;31m---------------------------------------------------------------------------\u001b[0m",
      "\u001b[1;31mTypeError\u001b[0m                                 Traceback (most recent call last)",
      "\u001b[1;32m<ipython-input-28-ffadaa3fad5b>\u001b[0m in \u001b[0;36m<module>\u001b[1;34m\u001b[0m\n\u001b[1;32m----> 1\u001b[1;33m \u001b[1;34m\"roshni\"\u001b[0m \u001b[1;33m+\u001b[0m \u001b[1;33m[\u001b[0m\u001b[1;34m\"harinkhede\"\u001b[0m\u001b[1;33m,\u001b[0m\u001b[1;36m34\u001b[0m\u001b[1;33m,\u001b[0m\u001b[1;36m456789\u001b[0m\u001b[1;33m]\u001b[0m\u001b[1;33m\u001b[0m\u001b[1;33m\u001b[0m\u001b[0m\n\u001b[0m",
      "\u001b[1;31mTypeError\u001b[0m: can only concatenate str (not \"list\") to str"
     ]
    }
   ],
   "source": [
    "\"roshni\" + [\"harinkhede\",34,456789]"
   ]
  },
  {
   "cell_type": "code",
   "execution_count": 30,
   "id": "c8ec2541",
   "metadata": {},
   "outputs": [
    {
     "ename": "TypeError",
     "evalue": "'type' object is not subscriptable",
     "output_type": "error",
     "traceback": [
      "\u001b[1;31m---------------------------------------------------------------------------\u001b[0m",
      "\u001b[1;31mTypeError\u001b[0m                                 Traceback (most recent call last)",
      "\u001b[1;32m<ipython-input-30-d4f66a8f3757>\u001b[0m in \u001b[0;36m<module>\u001b[1;34m\u001b[0m\n\u001b[1;32m----> 1\u001b[1;33m \u001b[1;34m\"roshni\"\u001b[0m \u001b[1;33m+\u001b[0m\u001b[0mstr\u001b[0m\u001b[1;33m[\u001b[0m\u001b[1;34m\"harinkhede\"\u001b[0m\u001b[1;33m,\u001b[0m\u001b[1;34m\"34\"\u001b[0m\u001b[1;33m,\u001b[0m\u001b[1;34m\"456789\"\u001b[0m\u001b[1;33m]\u001b[0m\u001b[1;33m\u001b[0m\u001b[1;33m\u001b[0m\u001b[0m\n\u001b[0m",
      "\u001b[1;31mTypeError\u001b[0m: 'type' object is not subscriptable"
     ]
    }
   ],
   "source": [
    "\"roshni\" +str[\"harinkhede\",\"34\",\"456789\"]"
   ]
  },
  {
   "cell_type": "code",
   "execution_count": 3,
   "id": "5c28f15c",
   "metadata": {},
   "outputs": [],
   "source": [
    "s = \"my name is Roshni\""
   ]
  },
  {
   "cell_type": "code",
   "execution_count": 4,
   "id": "01f980f9",
   "metadata": {},
   "outputs": [
    {
     "data": {
      "text/plain": [
       "'my name is Roshni'"
      ]
     },
     "execution_count": 4,
     "metadata": {},
     "output_type": "execute_result"
    }
   ],
   "source": [
    "s"
   ]
  },
  {
   "cell_type": "code",
   "execution_count": 5,
   "id": "d6a67dcd",
   "metadata": {},
   "outputs": [
    {
     "data": {
      "text/plain": [
       "0"
      ]
     },
     "execution_count": 5,
     "metadata": {},
     "output_type": "execute_result"
    }
   ],
   "source": [
    "\n",
    "s.find('m')"
   ]
  },
  {
   "cell_type": "code",
   "execution_count": 6,
   "id": "36496c89",
   "metadata": {},
   "outputs": [
    {
     "data": {
      "text/plain": [
       "-1"
      ]
     },
     "execution_count": 6,
     "metadata": {},
     "output_type": "execute_result"
    }
   ],
   "source": [
    "s.find('q')"
   ]
  },
  {
   "cell_type": "code",
   "execution_count": 7,
   "id": "b1cd002b",
   "metadata": {},
   "outputs": [
    {
     "data": {
      "text/plain": [
       "'my name is Roshni'"
      ]
     },
     "execution_count": 7,
     "metadata": {},
     "output_type": "execute_result"
    }
   ],
   "source": [
    "s"
   ]
  },
  {
   "cell_type": "code",
   "execution_count": 8,
   "id": "520f742f",
   "metadata": {},
   "outputs": [
    {
     "data": {
      "text/plain": [
       "'name'"
      ]
     },
     "execution_count": 8,
     "metadata": {},
     "output_type": "execute_result"
    }
   ],
   "source": [
    "s[3:7]"
   ]
  },
  {
   "cell_type": "code",
   "execution_count": 11,
   "id": "368bdc08",
   "metadata": {},
   "outputs": [
    {
     "data": {
      "text/plain": [
       "3"
      ]
     },
     "execution_count": 11,
     "metadata": {},
     "output_type": "execute_result"
    }
   ],
   "source": [
    "s.find('name')"
   ]
  },
  {
   "cell_type": "code",
   "execution_count": 14,
   "id": "94fe0236",
   "metadata": {},
   "outputs": [
    {
     "data": {
      "text/plain": [
       "2"
      ]
     },
     "execution_count": 14,
     "metadata": {},
     "output_type": "execute_result"
    }
   ],
   "source": [
    "s.count('i')"
   ]
  },
  {
   "cell_type": "code",
   "execution_count": 13,
   "id": "f5ffadaa",
   "metadata": {},
   "outputs": [
    {
     "name": "stdout",
     "output_type": "stream",
     "text": [
      "3\n",
      "4\n",
      "5\n",
      "6\n"
     ]
    }
   ],
   "source": [
    "b = s.find('name')\n",
    "for i in range(len(\"name\")):\n",
    "    print(b + i)"
   ]
  },
  {
   "cell_type": "code",
   "execution_count": 15,
   "id": "b3a5d898",
   "metadata": {},
   "outputs": [
    {
     "data": {
      "text/plain": [
       "'my name is Roshni'"
      ]
     },
     "execution_count": 15,
     "metadata": {},
     "output_type": "execute_result"
    }
   ],
   "source": [
    "s"
   ]
  },
  {
   "cell_type": "code",
   "execution_count": 16,
   "id": "5c6f8bc4",
   "metadata": {},
   "outputs": [
    {
     "data": {
      "text/plain": [
       "['my', 'name', 'is', 'Roshni']"
      ]
     },
     "execution_count": 16,
     "metadata": {},
     "output_type": "execute_result"
    }
   ],
   "source": [
    "s.split()"
   ]
  },
  {
   "cell_type": "code",
   "execution_count": 23,
   "id": "f82c3879",
   "metadata": {},
   "outputs": [],
   "source": [
    "m = 'i want to became a data scientist and earn money,my name is Roshni'"
   ]
  },
  {
   "cell_type": "code",
   "execution_count": 24,
   "id": "a2d59199",
   "metadata": {},
   "outputs": [
    {
     "data": {
      "text/plain": [
       "'i want to became a data scientist and earn money,my name is Roshni'"
      ]
     },
     "execution_count": 24,
     "metadata": {},
     "output_type": "execute_result"
    }
   ],
   "source": [
    "m"
   ]
  },
  {
   "cell_type": "code",
   "execution_count": 25,
   "id": "4f301db0",
   "metadata": {},
   "outputs": [
    {
     "data": {
      "text/plain": [
       "['i',\n",
       " 'want',\n",
       " 'to',\n",
       " 'became',\n",
       " 'a',\n",
       " 'data',\n",
       " 'scientist',\n",
       " 'and',\n",
       " 'earn',\n",
       " 'money,my',\n",
       " 'name',\n",
       " 'is',\n",
       " 'Roshni']"
      ]
     },
     "execution_count": 25,
     "metadata": {},
     "output_type": "execute_result"
    }
   ],
   "source": [
    "m.split()"
   ]
  },
  {
   "cell_type": "code",
   "execution_count": 26,
   "id": "516c9e48",
   "metadata": {},
   "outputs": [
    {
     "data": {
      "text/plain": [
       "['i want to became a data scientist and earn money', 'my name is Roshni']"
      ]
     },
     "execution_count": 26,
     "metadata": {},
     "output_type": "execute_result"
    }
   ],
   "source": [
    "m.split(\",\")"
   ]
  },
  {
   "cell_type": "code",
   "execution_count": 28,
   "id": "91095530",
   "metadata": {},
   "outputs": [
    {
     "data": {
      "text/plain": [
       "['i ', ' to became a data scientist and earn money,my name is Roshni']"
      ]
     },
     "execution_count": 28,
     "metadata": {},
     "output_type": "execute_result"
    }
   ],
   "source": [
    "m.split(\"want\")"
   ]
  },
  {
   "cell_type": "code",
   "execution_count": 29,
   "id": "35b04587",
   "metadata": {},
   "outputs": [
    {
     "data": {
      "text/plain": [
       "list"
      ]
     },
     "execution_count": 29,
     "metadata": {},
     "output_type": "execute_result"
    }
   ],
   "source": [
    "type(m.split(\"want\"))"
   ]
  },
  {
   "cell_type": "code",
   "execution_count": 30,
   "id": "0ccc69b8",
   "metadata": {},
   "outputs": [
    {
     "data": {
      "text/plain": [
       "'I WANT TO BECAME A DATA SCIENTIST AND EARN MONEY,MY NAME IS ROSHNI'"
      ]
     },
     "execution_count": 30,
     "metadata": {},
     "output_type": "execute_result"
    }
   ],
   "source": [
    "m.upper()"
   ]
  },
  {
   "cell_type": "code",
   "execution_count": 31,
   "id": "c7d41073",
   "metadata": {},
   "outputs": [
    {
     "data": {
      "text/plain": [
       "'i want to became a data scientist and earn money,my name is roshni'"
      ]
     },
     "execution_count": 31,
     "metadata": {},
     "output_type": "execute_result"
    }
   ],
   "source": [
    "m.lower()"
   ]
  },
  {
   "cell_type": "code",
   "execution_count": 32,
   "id": "8161097e",
   "metadata": {},
   "outputs": [
    {
     "data": {
      "text/plain": [
       "'I WANT TO BECAME A DATA SCIENTIST AND EARN MONEY,MY NAME IS rOSHNI'"
      ]
     },
     "execution_count": 32,
     "metadata": {},
     "output_type": "execute_result"
    }
   ],
   "source": [
    "m.swapcase()"
   ]
  },
  {
   "cell_type": "code",
   "execution_count": 33,
   "id": "b5f877ac",
   "metadata": {},
   "outputs": [
    {
     "data": {
      "text/plain": [
       "'i   w a n t   t o   b e c a m e   a   d a t a   s c i e n t i s t   a n d   e a r n   m o n e y , m y   n a m e   i s   R o s h n i'"
      ]
     },
     "execution_count": 33,
     "metadata": {},
     "output_type": "execute_result"
    }
   ],
   "source": [
    "\" \".join(m)"
   ]
  },
  {
   "cell_type": "code",
   "execution_count": 34,
   "id": "e66f0f10",
   "metadata": {},
   "outputs": [
    {
     "data": {
      "text/plain": [
       "'i- -w-a-n-t- -t-o- -b-e-c-a-m-e- -a- -d-a-t-a- -s-c-i-e-n-t-i-s-t- -a-n-d- -e-a-r-n- -m-o-n-e-y-,-m-y- -n-a-m-e- -i-s- -R-o-s-h-n-i'"
      ]
     },
     "execution_count": 34,
     "metadata": {},
     "output_type": "execute_result"
    }
   ],
   "source": [
    "\"-\".join(m)"
   ]
  },
  {
   "cell_type": "code",
   "execution_count": 35,
   "id": "4be7bea0",
   "metadata": {},
   "outputs": [
    {
     "data": {
      "text/plain": [
       "<reversed at 0x25b52f08400>"
      ]
     },
     "execution_count": 35,
     "metadata": {},
     "output_type": "execute_result"
    }
   ],
   "source": [
    "reversed('m')"
   ]
  },
  {
   "cell_type": "code",
   "execution_count": 37,
   "id": "dd79b1e2",
   "metadata": {},
   "outputs": [
    {
     "data": {
      "text/plain": [
       "['i',\n",
       " 'n',\n",
       " 'h',\n",
       " 's',\n",
       " 'o',\n",
       " 'R',\n",
       " ' ',\n",
       " 's',\n",
       " 'i',\n",
       " ' ',\n",
       " 'e',\n",
       " 'm',\n",
       " 'a',\n",
       " 'n',\n",
       " ' ',\n",
       " 'y',\n",
       " 'm',\n",
       " ',',\n",
       " 'y',\n",
       " 'e',\n",
       " 'n',\n",
       " 'o',\n",
       " 'm',\n",
       " ' ',\n",
       " 'n',\n",
       " 'r',\n",
       " 'a',\n",
       " 'e',\n",
       " ' ',\n",
       " 'd',\n",
       " 'n',\n",
       " 'a',\n",
       " ' ',\n",
       " 't',\n",
       " 's',\n",
       " 'i',\n",
       " 't',\n",
       " 'n',\n",
       " 'e',\n",
       " 'i',\n",
       " 'c',\n",
       " 's',\n",
       " ' ',\n",
       " 'a',\n",
       " 't',\n",
       " 'a',\n",
       " 'd',\n",
       " ' ',\n",
       " 'a',\n",
       " ' ',\n",
       " 'e',\n",
       " 'm',\n",
       " 'a',\n",
       " 'c',\n",
       " 'e',\n",
       " 'b',\n",
       " ' ',\n",
       " 'o',\n",
       " 't',\n",
       " ' ',\n",
       " 't',\n",
       " 'n',\n",
       " 'a',\n",
       " 'w',\n",
       " ' ',\n",
       " 'i']"
      ]
     },
     "execution_count": 37,
     "metadata": {},
     "output_type": "execute_result"
    }
   ],
   "source": [
    "list(reversed(m))"
   ]
  },
  {
   "cell_type": "code",
   "execution_count": 38,
   "id": "4ccd6e7e",
   "metadata": {},
   "outputs": [],
   "source": [
    "l = \"  harinkhede     \""
   ]
  },
  {
   "cell_type": "code",
   "execution_count": 39,
   "id": "ba2ebf54",
   "metadata": {},
   "outputs": [
    {
     "data": {
      "text/plain": [
       "'  harinkhede     '"
      ]
     },
     "execution_count": 39,
     "metadata": {},
     "output_type": "execute_result"
    }
   ],
   "source": [
    "l"
   ]
  },
  {
   "cell_type": "code",
   "execution_count": 46,
   "id": "deb48db2",
   "metadata": {},
   "outputs": [
    {
     "data": {
      "text/plain": [
       "'harinkhede'"
      ]
     },
     "execution_count": 46,
     "metadata": {},
     "output_type": "execute_result"
    }
   ],
   "source": [
    "l.strip()   # for remove space"
   ]
  },
  {
   "cell_type": "code",
   "execution_count": 47,
   "id": "cc752373",
   "metadata": {},
   "outputs": [
    {
     "data": {
      "text/plain": [
       "'  harinkhede     '"
      ]
     },
     "execution_count": 47,
     "metadata": {},
     "output_type": "execute_result"
    }
   ],
   "source": [
    "l"
   ]
  },
  {
   "cell_type": "code",
   "execution_count": 48,
   "id": "e3f256b5",
   "metadata": {},
   "outputs": [
    {
     "data": {
      "text/plain": [
       "'harinkhede     '"
      ]
     },
     "execution_count": 48,
     "metadata": {},
     "output_type": "execute_result"
    }
   ],
   "source": [
    "l.lstrip()     #for romoving left side space"
   ]
  },
  {
   "cell_type": "code",
   "execution_count": 49,
   "id": "321b5c4d",
   "metadata": {},
   "outputs": [
    {
     "data": {
      "text/plain": [
       "'  harinkhede'"
      ]
     },
     "execution_count": 49,
     "metadata": {},
     "output_type": "execute_result"
    }
   ],
   "source": [
    "l.rstrip()     #for romoving right side space"
   ]
  },
  {
   "cell_type": "code",
   "execution_count": 50,
   "id": "3270d6e7",
   "metadata": {},
   "outputs": [],
   "source": [
    "n = \"greeting from ineoron\""
   ]
  },
  {
   "cell_type": "code",
   "execution_count": 51,
   "id": "afdf4c60",
   "metadata": {},
   "outputs": [
    {
     "data": {
      "text/plain": [
       "'gruuting from inuoron'"
      ]
     },
     "execution_count": 51,
     "metadata": {},
     "output_type": "execute_result"
    }
   ],
   "source": [
    "n.replace(\"e\",\"u\")  # for replacing"
   ]
  },
  {
   "cell_type": "code",
   "execution_count": 52,
   "id": "14809405",
   "metadata": {},
   "outputs": [
    {
     "data": {
      "text/plain": [
       "'gpigeting from ineoron'"
      ]
     },
     "execution_count": 52,
     "metadata": {},
     "output_type": "execute_result"
    }
   ],
   "source": [
    "n.replace(\"re\",\"pig\")"
   ]
  },
  {
   "cell_type": "code",
   "execution_count": 53,
   "id": "9663d386",
   "metadata": {},
   "outputs": [
    {
     "data": {
      "text/plain": [
       "'greeting from ineoron'"
      ]
     },
     "execution_count": 53,
     "metadata": {},
     "output_type": "execute_result"
    }
   ],
   "source": [
    "n"
   ]
  },
  {
   "cell_type": "code",
   "execution_count": 54,
   "id": "31d655a1",
   "metadata": {},
   "outputs": [],
   "source": [
    "n = n.replace(\"e\",\"u\") "
   ]
  },
  {
   "cell_type": "code",
   "execution_count": 55,
   "id": "cbc7cd45",
   "metadata": {},
   "outputs": [
    {
     "data": {
      "text/plain": [
       "'gruuting from inuoron'"
      ]
     },
     "execution_count": 55,
     "metadata": {},
     "output_type": "execute_result"
    }
   ],
   "source": [
    "n"
   ]
  },
  {
   "cell_type": "code",
   "execution_count": 10,
   "id": "a864a87f",
   "metadata": {},
   "outputs": [],
   "source": [
    "p = \"we all are a part of full stack\""
   ]
  },
  {
   "cell_type": "code",
   "execution_count": 11,
   "id": "05b0d07c",
   "metadata": {},
   "outputs": [
    {
     "data": {
      "text/plain": [
       "'we all are a part of full stack'"
      ]
     },
     "execution_count": 11,
     "metadata": {},
     "output_type": "execute_result"
    }
   ],
   "source": [
    "p"
   ]
  },
  {
   "cell_type": "code",
   "execution_count": 3,
   "id": "67551ef2",
   "metadata": {},
   "outputs": [
    {
     "data": {
      "text/plain": [
       "'WE ALL ARE A PART OF FULL STACK'"
      ]
     },
     "execution_count": 3,
     "metadata": {},
     "output_type": "execute_result"
    }
   ],
   "source": [
    "a.upper()"
   ]
  },
  {
   "cell_type": "code",
   "execution_count": 12,
   "id": "4ccb4b00",
   "metadata": {},
   "outputs": [
    {
     "data": {
      "text/plain": [
       "'we all are a part of full stack'"
      ]
     },
     "execution_count": 12,
     "metadata": {},
     "output_type": "execute_result"
    }
   ],
   "source": [
    "p.lower()"
   ]
  },
  {
   "cell_type": "code",
   "execution_count": 13,
   "id": "dc7f90b9",
   "metadata": {},
   "outputs": [
    {
     "data": {
      "text/plain": [
       "5"
      ]
     },
     "execution_count": 13,
     "metadata": {},
     "output_type": "execute_result"
    }
   ],
   "source": [
    "p.count('a')"
   ]
  },
  {
   "cell_type": "code",
   "execution_count": 14,
   "id": "e66a2e91",
   "metadata": {},
   "outputs": [
    {
     "name": "stdout",
     "output_type": "stream",
     "text": [
      "i\n",
      "i\n",
      "i\n",
      "i\n",
      "i\n"
     ]
    }
   ],
   "source": [
    "for i in p:\n",
    "    if i == \"a\":\n",
    "        print(\"i\")\n",
    "      "
   ]
  },
  {
   "cell_type": "code",
   "execution_count": 32,
   "id": "67a58ac1",
   "metadata": {},
   "outputs": [
    {
     "name": "stdout",
     "output_type": "stream",
     "text": [
      "3\n",
      "7\n",
      "11\n",
      "14\n",
      "28\n"
     ]
    }
   ],
   "source": [
    "b = p.find('a')\n",
    "for i in range(len(p)):\n",
    "    if (a[i]=='a'):\n",
    "        print(i)\n",
    "        \n"
   ]
  },
  {
   "cell_type": "code",
   "execution_count": 24,
   "id": "5519c916",
   "metadata": {},
   "outputs": [
    {
     "name": "stdout",
     "output_type": "stream",
     "text": [
      "3\n"
     ]
    }
   ],
   "source": [
    "for i in range(len('p')):\n",
    "     print(b + i)"
   ]
  },
  {
   "cell_type": "code",
   "execution_count": 9,
   "id": "78d20201",
   "metadata": {},
   "outputs": [
    {
     "data": {
      "text/plain": [
       "'we all are a part of full stack'"
      ]
     },
     "execution_count": 9,
     "metadata": {},
     "output_type": "execute_result"
    }
   ],
   "source": [
    "a"
   ]
  },
  {
   "cell_type": "code",
   "execution_count": 16,
   "id": "136f97a3",
   "metadata": {},
   "outputs": [
    {
     "data": {
      "text/plain": [
       "'we iNeuronll iNeuronre iNeuron piNeuronrt of full stiNeuronck'"
      ]
     },
     "execution_count": 16,
     "metadata": {},
     "output_type": "execute_result"
    }
   ],
   "source": [
    "p.replace(\"a\",\"iNeuron\")"
   ]
  },
  {
   "cell_type": "code",
   "execution_count": 17,
   "id": "7294b878",
   "metadata": {},
   "outputs": [
    {
     "data": {
      "text/plain": [
       "['we', 'all', 'are', 'a', 'part', 'of', 'full', 'stack']"
      ]
     },
     "execution_count": 17,
     "metadata": {},
     "output_type": "execute_result"
    }
   ],
   "source": [
    "p.split()"
   ]
  },
  {
   "cell_type": "code",
   "execution_count": 10,
   "id": "90a6c188",
   "metadata": {},
   "outputs": [
    {
     "name": "stdout",
     "output_type": "stream",
     "text": [
      "We all are a Part of Full Stack\n",
      "5\n",
      "We iNeuronll iNeuronre iNeuron PiNeuronrt of Full StiNeuronck\n",
      "['We', 'all', 'are', 'a', 'Part', 'of', 'Full', 'Stack']\n",
      "3\n",
      "7\n",
      "11\n",
      "14\n",
      "28\n"
     ]
    }
   ],
   "source": [
    "p = \"We all are a Part of Full Stack\"\n",
    "p.lower()\n",
    "print(p)\n",
    "c = p.count('a')\n",
    "print(c)\n",
    "m =  p.replace(\"a\",\"iNeuron\")\n",
    "print(m)\n",
    "s = p.split()\n",
    "print(s)\n",
    "b = p.find('a')\n",
    "for i in range(len(p)):\n",
    "    if (p[i]=='a'):\n",
    "        print(i)\n",
    "        \n",
    "\n",
    "\n"
   ]
  },
  {
   "cell_type": "code",
   "execution_count": null,
   "id": "593cc578",
   "metadata": {},
   "outputs": [],
   "source": []
  }
 ],
 "metadata": {
  "kernelspec": {
   "display_name": "Python 3",
   "language": "python",
   "name": "python3"
  },
  "language_info": {
   "codemirror_mode": {
    "name": "ipython",
    "version": 3
   },
   "file_extension": ".py",
   "mimetype": "text/x-python",
   "name": "python",
   "nbconvert_exporter": "python",
   "pygments_lexer": "ipython3",
   "version": "3.8.8"
  }
 },
 "nbformat": 4,
 "nbformat_minor": 5
}
