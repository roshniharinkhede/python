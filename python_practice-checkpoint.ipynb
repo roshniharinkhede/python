{
 "cells": [
  {
   "cell_type": "code",
   "execution_count": 2,
   "id": "302b5744",
   "metadata": {},
   "outputs": [],
   "source": [
    "a = 10"
   ]
  },
  {
   "cell_type": "code",
   "execution_count": 15,
   "id": "7ea15cef",
   "metadata": {},
   "outputs": [
    {
     "name": "stdout",
     "output_type": "stream",
     "text": [
      "this is integer v3456\n"
     ]
    }
   ],
   "source": [
    "a = input(\"this is integer v\")"
   ]
  },
  {
   "cell_type": "code",
   "execution_count": 16,
   "id": "d4287034",
   "metadata": {},
   "outputs": [
    {
     "data": {
      "text/plain": [
       "'3456'"
      ]
     },
     "execution_count": 16,
     "metadata": {},
     "output_type": "execute_result"
    }
   ],
   "source": [
    "a"
   ]
  },
  {
   "cell_type": "code",
   "execution_count": 17,
   "id": "d5faa00b",
   "metadata": {},
   "outputs": [
    {
     "data": {
      "text/plain": [
       "str"
      ]
     },
     "execution_count": 17,
     "metadata": {},
     "output_type": "execute_result"
    }
   ],
   "source": [
    "type(a)"
   ]
  },
  {
   "cell_type": "code",
   "execution_count": 19,
   "id": "70b09bc8",
   "metadata": {},
   "outputs": [
    {
     "name": "stdout",
     "output_type": "stream",
     "text": [
      "this is integer v3456\n"
     ]
    }
   ],
   "source": [
    "a = int(input(\"this is integer v\"))"
   ]
  },
  {
   "cell_type": "code",
   "execution_count": 20,
   "id": "1e483d4d",
   "metadata": {},
   "outputs": [
    {
     "data": {
      "text/plain": [
       "3456"
      ]
     },
     "execution_count": 20,
     "metadata": {},
     "output_type": "execute_result"
    }
   ],
   "source": [
    "a"
   ]
  },
  {
   "cell_type": "code",
   "execution_count": 21,
   "id": "e15fa440",
   "metadata": {},
   "outputs": [
    {
     "data": {
      "text/plain": [
       "int"
      ]
     },
     "execution_count": 21,
     "metadata": {},
     "output_type": "execute_result"
    }
   ],
   "source": [
    "type(a)"
   ]
  },
  {
   "cell_type": "code",
   "execution_count": 22,
   "id": "013431df",
   "metadata": {},
   "outputs": [
    {
     "name": "stdout",
     "output_type": "stream",
     "text": [
      "this is my var a35\n",
      "this is my var b45\n",
      "this is my var c65\n"
     ]
    }
   ],
   "source": [
    "a = int(input(\"this is my var a\"))\n",
    "b = int(input(\"this is my var b\"))\n",
    "c = int(input(\"this is my var c\"))"
   ]
  },
  {
   "cell_type": "code",
   "execution_count": 23,
   "id": "a7c5734d",
   "metadata": {},
   "outputs": [
    {
     "data": {
      "text/plain": [
       "(35, 45, 65)"
      ]
     },
     "execution_count": 23,
     "metadata": {},
     "output_type": "execute_result"
    }
   ],
   "source": [
    "a,b,c"
   ]
  },
  {
   "cell_type": "code",
   "execution_count": 24,
   "id": "7f18a2e6",
   "metadata": {},
   "outputs": [],
   "source": [
    "O = (a+b)/c"
   ]
  },
  {
   "cell_type": "code",
   "execution_count": 25,
   "id": "d49cd0e6",
   "metadata": {},
   "outputs": [],
   "source": [
    "o1 = O + 74 + 6j"
   ]
  },
  {
   "cell_type": "code",
   "execution_count": 26,
   "id": "7ba06c55",
   "metadata": {},
   "outputs": [
    {
     "data": {
      "text/plain": [
       "(75.23076923076923+6j)"
      ]
     },
     "execution_count": 26,
     "metadata": {},
     "output_type": "execute_result"
    }
   ],
   "source": [
    "o1"
   ]
  },
  {
   "cell_type": "code",
   "execution_count": 27,
   "id": "39d71a65",
   "metadata": {},
   "outputs": [
    {
     "data": {
      "text/plain": [
       "complex"
      ]
     },
     "execution_count": 27,
     "metadata": {},
     "output_type": "execute_result"
    }
   ],
   "source": [
    "type(o1)"
   ]
  },
  {
   "cell_type": "code",
   "execution_count": 28,
   "id": "c4863cf1",
   "metadata": {},
   "outputs": [
    {
     "ename": "TypeError",
     "evalue": "unsupported operand type(s) for +: 'complex' and 'str'",
     "output_type": "error",
     "traceback": [
      "\u001b[1;31m---------------------------------------------------------------------------\u001b[0m",
      "\u001b[1;31mTypeError\u001b[0m                                 Traceback (most recent call last)",
      "\u001b[1;32m<ipython-input-28-dd16f020d5f6>\u001b[0m in \u001b[0;36m<module>\u001b[1;34m\u001b[0m\n\u001b[1;32m----> 1\u001b[1;33m \u001b[0mo1\u001b[0m \u001b[1;33m+\u001b[0m \u001b[1;34m\"roshni\"\u001b[0m\u001b[1;33m\u001b[0m\u001b[1;33m\u001b[0m\u001b[0m\n\u001b[0m",
      "\u001b[1;31mTypeError\u001b[0m: unsupported operand type(s) for +: 'complex' and 'str'"
     ]
    }
   ],
   "source": [
    "o1 + \"roshni\""
   ]
  },
  {
   "cell_type": "code",
   "execution_count": 30,
   "id": "10218df3",
   "metadata": {},
   "outputs": [
    {
     "data": {
      "text/plain": [
       "'(75.23076923076923+6j)roshni'"
      ]
     },
     "execution_count": 30,
     "metadata": {},
     "output_type": "execute_result"
    }
   ],
   "source": [
    "str(o1) + \"roshni\""
   ]
  },
  {
   "cell_type": "code",
   "execution_count": 32,
   "id": "7269d325",
   "metadata": {},
   "outputs": [
    {
     "name": "stdout",
     "output_type": "stream",
     "text": [
      "input a number67\n",
      "this number is not lesser then 34\n"
     ]
    }
   ],
   "source": [
    "a = int(input(\"input a number\"))\n",
    "if a < 34:\n",
    "    print(\"this num is lesser then 34\")\n",
    "else:\n",
    "    print(\"this number is not lesser then 34\")"
   ]
  },
  {
   "cell_type": "code",
   "execution_count": 34,
   "id": "32d11b15",
   "metadata": {},
   "outputs": [
    {
     "name": "stdout",
     "output_type": "stream",
     "text": [
      "input a number103\n",
      "this number is not lesser then 34\n"
     ]
    }
   ],
   "source": [
    "a = int(input(\"input a number\"))\n",
    "if a < 34:\n",
    "    print(\"this num is lesser then 34\")\n",
    "elif a <100:\n",
    "    print(\"num is lesser then 100\")\n",
    "else:\n",
    "    print(\"this number is not lesser then 34\")"
   ]
  },
  {
   "cell_type": "code",
   "execution_count": 39,
   "id": "2b7149d2",
   "metadata": {},
   "outputs": [
    {
     "name": "stdout",
     "output_type": "stream",
     "text": [
      "enter your salary4\n",
      "i will buy a bike\n"
     ]
    }
   ],
   "source": [
    "salary = int(input(\"enter your salary\"))\n",
    "if salary > 1000:\n",
    "    print(\"i will buy a car\")\n",
    "elif salary < 500:\n",
    "    print(\"i will buy a bike\")\n",
    "elif salary <100:\n",
    "    print (\"i will not buy enything\")\n",
    "else:\n",
    "    print(\"i will go for saving\")"
   ]
  },
  {
   "cell_type": "code",
   "execution_count": null,
   "id": "3a94821b",
   "metadata": {},
   "outputs": [],
   "source": []
  }
 ],
 "metadata": {
  "kernelspec": {
   "display_name": "Python 3",
   "language": "python",
   "name": "python3"
  },
  "language_info": {
   "codemirror_mode": {
    "name": "ipython",
    "version": 3
   },
   "file_extension": ".py",
   "mimetype": "text/x-python",
   "name": "python",
   "nbconvert_exporter": "python",
   "pygments_lexer": "ipython3",
   "version": "3.8.8"
  }
 },
 "nbformat": 4,
 "nbformat_minor": 5
}
